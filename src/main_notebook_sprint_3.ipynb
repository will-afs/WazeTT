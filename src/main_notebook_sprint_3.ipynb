{
 "cells": [
  {
   "cell_type": "markdown",
   "metadata": {},
   "source": [
    "# Notebook configuration"
   ]
  },
  {
   "cell_type": "code",
   "execution_count": 33,
   "metadata": {},
   "outputs": [],
   "source": [
    "# Configuration\n",
    "shapefile_dir_path = '/home/william/Programming/WazeTT/data/input/bd_topo/ZONE_VEGETATION/'\n",
    "shapefile_name = 'ZONE_VEGETATION.shp'\n",
    "shapefile_path = shapefile_dir_path + shapefile_name\n",
    "\n",
    "tiles_dir_path = '../data/input/bd_alti/'\n",
    "tiles_name = 'dalles.shp'\n",
    "tiles_path = tiles_dir_path + tiles_name\n",
    "\n",
    "ascii_file_dir_path = '../data/input/bd_alti/'\n",
    "ascii_file_name = 'BDALTIV2_25M_FXX_0825_6550_MNT_LAMB93_IGN69.asc'"
   ]
  },
  {
   "cell_type": "markdown",
   "metadata": {},
   "source": [
    "# Load the ascii file in memory"
   ]
  },
  {
   "cell_type": "code",
   "execution_count": 34,
   "metadata": {},
   "outputs": [
    {
     "name": "stdout",
     "output_type": "stream",
     "text": [
      "824987.5\n"
     ]
    }
   ],
   "source": [
    "with open(ascii_file_dir_path + ascii_file_name, 'r') as ascii_file:\n",
    "    ncols = int(ascii_file.readline().replace('ncols', '').replace(' ', '').replace('\\n', ''))\n",
    "    nrows = int(ascii_file.readline().replace('nrows', '').replace(' ', '').replace('\\n', ''))\n",
    "    xllcorner_lamb93 = float(ascii_file.readline().replace('xllcorner', '').replace(' ', '').replace('\\n', ''))\n",
    "    yllcorner_lamb93 = float(ascii_file.readline().replace('yllcorner', '').replace(' ', '').replace('\\n', ''))\n",
    "    cellsize = int(float(ascii_file.readline().replace('cellsize', '').replace(' ', '').replace('\\n', '')))\n",
    "    NODATA_value = float(ascii_file.readline().replace('NODATA_value', '').replace(' ', '').replace('\\n', ''))\n",
    "    ascii_table = []\n",
    "    for line in ascii_file.readlines():\n",
    "        ascii_line = line.split(' ')\n",
    "        ascii_line.remove('')\n",
    "        ascii_table.append([float(cell) for cell in ascii_line])\n",
    "    print(xllcorner_lamb93)"
   ]
  },
  {
   "cell_type": "markdown",
   "metadata": {},
   "source": [
    "# Deduce its Bounding Box coordinates in Lamb93 (xll, yll)"
   ]
  },
  {
   "cell_type": "code",
   "execution_count": 35,
   "metadata": {},
   "outputs": [
    {
     "name": "stdout",
     "output_type": "stream",
     "text": [
      "ascii_table_west_bound_xll_lamb93 : 824987.5\n",
      "ascii_table_east_bound_xll_lamb93 : 849987.5\n",
      "ascii_table_south_bound_yll_lamb93 : 6500012.5\n",
      "ascii_table_north_bound_yll_lamb93 : 6525012.5\n"
     ]
    }
   ],
   "source": [
    "ascii_table_west_bound_xll_lamb93 = xllcorner_lamb93\n",
    "ascii_table_east_bound_xll_lamb93 = xllcorner_lamb93 + cellsize*ncols\n",
    "ascii_table_south_bound_yll_lamb93 = yllcorner_lamb93 - cellsize*nrows\n",
    "ascii_table_north_bound_yll_lamb93 = yllcorner_lamb93\n",
    "\n",
    "ascii_table_bb_coord_lamb93 = (\n",
    "                                ascii_table_west_bound_xll_lamb93,\n",
    "                                ascii_table_east_bound_xll_lamb93,\n",
    "                                ascii_table_south_bound_yll_lamb93,\n",
    "                                ascii_table_north_bound_yll_lamb93\n",
    "                            )\n",
    "\n",
    "print('ascii_table_west_bound_xll_lamb93 : {}'.format(ascii_table_west_bound_xll_lamb93))\n",
    "print('ascii_table_east_bound_xll_lamb93 : {}'.format(ascii_table_east_bound_xll_lamb93))\n",
    "print('ascii_table_south_bound_yll_lamb93 : {}'.format(ascii_table_south_bound_yll_lamb93))\n",
    "print('ascii_table_north_bound_yll_lamb93 : {}'.format(ascii_table_north_bound_yll_lamb93))"
   ]
  },
  {
   "cell_type": "markdown",
   "metadata": {},
   "source": [
    "# Create ASCII table Bounding Box polygon in Lamb93"
   ]
  },
  {
   "cell_type": "code",
   "execution_count": 36,
   "metadata": {},
   "outputs": [
    {
     "name": "stdout",
     "output_type": "stream",
     "text": [
      "POLYGON ((824987.5 6525012.5, 849987.5 6525012.5, 824987.5 6500012.5, 824987.5 6500012.5, 824987.5 6525012.5))\n"
     ]
    }
   ],
   "source": [
    "ascii_table_nw_bound_coord_lamb93 = (ascii_table_west_bound_xll_lamb93, ascii_table_north_bound_yll_lamb93)\n",
    "ascii_table_ne_bound_coord_lamb93 = (ascii_table_east_bound_xll_lamb93, ascii_table_north_bound_yll_lamb93)\n",
    "ascii_table_se_bound_coord_lamb93 = (ascii_table_west_bound_xll_lamb93, ascii_table_south_bound_yll_lamb93)\n",
    "ascii_table_sw_bound_coord_lamb93 = (ascii_table_west_bound_xll_lamb93, ascii_table_south_bound_yll_lamb93)\n",
    "\n",
    "from shapely.geometry import Polygon\n",
    "\n",
    "ascii_table_bb_polygon_lamb93 = Polygon([\n",
    "                                    ascii_table_nw_bound_coord_lamb93,\n",
    "                                    ascii_table_ne_bound_coord_lamb93,\n",
    "                                    ascii_table_se_bound_coord_lamb93,\n",
    "                                    ascii_table_sw_bound_coord_lamb93\n",
    "                                ])\n",
    "print(ascii_table_bb_polygon_lamb93)"
   ]
  },
  {
   "cell_type": "markdown",
   "metadata": {},
   "source": [
    "# Load the shapefile"
   ]
  },
  {
   "cell_type": "code",
   "execution_count": 40,
   "metadata": {},
   "outputs": [
    {
     "name": "stdout",
     "output_type": "stream",
     "text": [
      "POLYGON ((907748 6520508.1, 907742.9 6520504.1, 907739.3 6520505.7, 907737.6 6520510.6, 907739 6520516, 907742.8 6520518.3, 907748.2 6520515, 907748 6520508.1))\n"
     ]
    }
   ],
   "source": [
    "# Conversion of a pair of files (.shp + .shx) into a list of POLYGON included into the ASCII table Bounding Box\n",
    "import geopandas as gpd\n",
    "\n",
    "gdf = gpd.read_file(\n",
    "    shapefile_path,\n",
    "    bbox=ascii_table_bb_coord_lamb93,\n",
    ")\n",
    "\n",
    "shapefile_polygones_wgs84 = gdf['geometry']\n",
    "print(shapefile_polygones_wgs84[0])\n",
    "# TODO : visualize these data with follium"
   ]
  },
  {
   "cell_type": "markdown",
   "metadata": {},
   "source": [
    "# (Not useful anymore)\n",
    "Convert shapefile polygons coordinates from WGS84 to Lamb93"
   ]
  },
  {
   "cell_type": "code",
   "execution_count": 41,
   "metadata": {},
   "outputs": [
    {
     "name": "stdout",
     "output_type": "stream",
     "text": [
      "ascii_table_nw_bound_coord_wgs84 : (inf, inf)\n",
      "ascii_table_ne_bound_coord_wgs84 : (inf, inf)\n",
      "ascii_table_se_bound_coord_wgs84 : (inf, inf)\n",
      "ascii_table_sw_bound_coord_wgs84 : (inf, inf)\n"
     ]
    }
   ],
   "source": [
    "# from pyproj import Transformer\n",
    "# lamb93_epsg_code = \"2154\" # The Lamb93 coordinates system -> https://epsg.io/2154\n",
    "# wgs84_epsg_code = \"4326\" # The WGS84 coordinates system -> https://epsg.io/4326\n",
    "# transformer = Transformer.from_crs(\"epsg:\"+wgs84_epsg_code, \"epsg:\"+lamb93_epsg_code)\n",
    "\n",
    "# for shapefile_polygon_wgs84 in shapefile_polygones_wgs84:\n",
    "#     ascii_table_nw_bound_coord_wgs84 = transformer.transform(\n",
    "#                                                                 ascii_table_nw_bound_coord_lamb93[0],\n",
    "#                                                                 ascii_table_nw_bound_coord_lamb93[1]\n",
    "#                                                             )\n",
    "#     ascii_table_ne_bound_coord_wgs84 = transformer.transform(\n",
    "#                                                                 ascii_table_ne_bound_coord_lamb93[0],\n",
    "#                                                                 ascii_table_ne_bound_coord_lamb93[1]\n",
    "#                                                             )\n",
    "#     ascii_table_se_bound_coord_wgs84 = transformer.transform(\n",
    "#                                                                 ascii_table_se_bound_coord_lamb93[0],\n",
    "#                                                                 ascii_table_se_bound_coord_lamb93[1]\n",
    "#                                                             )\n",
    "#     ascii_table_sw_bound_coord_wgs84 = transformer.transform(\n",
    "#                                                                 ascii_table_sw_bound_coord_lamb93[0],\n",
    "#                                                                 ascii_table_sw_bound_coord_lamb93[1]\n",
    "#                                                             )\n",
    "\n",
    "# print('ascii_table_nw_bound_coord_wgs84 : {}'.format(ascii_table_nw_bound_coord_wgs84))\n",
    "# print('ascii_table_ne_bound_coord_wgs84 : {}'.format(ascii_table_ne_bound_coord_wgs84))\n",
    "# print('ascii_table_se_bound_coord_wgs84 : {}'.format(ascii_table_se_bound_coord_wgs84))\n",
    "# print('ascii_table_sw_bound_coord_wgs84 : {}'.format(ascii_table_sw_bound_coord_wgs84))\n",
    "\n",
    "# # TODO : visualize these data with follium"
   ]
  },
  {
   "cell_type": "markdown",
   "metadata": {},
   "source": [
    "# (Not useful anymore)\n",
    "Project the Polygons extracted from the shapefile onto the 2D ASCII table (William)"
   ]
  },
  {
   "cell_type": "code",
   "execution_count": 21,
   "metadata": {},
   "outputs": [
    {
     "name": "stdout",
     "output_type": "stream",
     "text": [
      "POLYGON ((839712.9 6575376.1, 839697.1 6575359.4, 839697.6 6575362.5, 839699.6 6575366.5, 839704.7 6575369.4, 839710.7 6575375.4, 839712.9 6575376.1))\n",
      "POLYGON ((45.81328010871762 4.609623049975772, 45.80823268954793 4.93146214529326, 45.58820553013228 4.603087618767242, 45.58820553013228 4.603087618767242, 45.81328010871762 4.609623049975772))\n"
     ]
    },
    {
     "ename": "KeyboardInterrupt",
     "evalue": "",
     "output_type": "error",
     "traceback": [
      "\u001b[0;31m---------------------------------------------------------------------------\u001b[0m",
      "\u001b[0;31mKeyboardInterrupt\u001b[0m                         Traceback (most recent call last)",
      "\u001b[0;32m/tmp/ipykernel_21408/3219728175.py\u001b[0m in \u001b[0;36m<module>\u001b[0;34m\u001b[0m\n\u001b[1;32m      4\u001b[0m \u001b[0;32mfor\u001b[0m \u001b[0mshapefile_polygon_wgs84\u001b[0m \u001b[0;32min\u001b[0m \u001b[0mshapefile_polygones_wgs84\u001b[0m\u001b[0;34m:\u001b[0m\u001b[0;34m\u001b[0m\u001b[0;34m\u001b[0m\u001b[0m\n\u001b[1;32m      5\u001b[0m     \u001b[0mprojected_polygon\u001b[0m \u001b[0;34m=\u001b[0m \u001b[0mascii_table_bb_polygon_wgs84\u001b[0m\u001b[0;34m.\u001b[0m\u001b[0mintersection\u001b[0m\u001b[0;34m(\u001b[0m\u001b[0mshapefile_polygon_wgs84\u001b[0m\u001b[0;34m)\u001b[0m\u001b[0;34m\u001b[0m\u001b[0;34m\u001b[0m\u001b[0m\n\u001b[0;32m----> 6\u001b[0;31m     \u001b[0;32mif\u001b[0m \u001b[0mprojected_polygon\u001b[0m\u001b[0;34m.\u001b[0m\u001b[0m__str__\u001b[0m\u001b[0;34m(\u001b[0m\u001b[0;34m)\u001b[0m \u001b[0;34m!=\u001b[0m \u001b[0;34m'POLYGON EMPTY'\u001b[0m\u001b[0;34m:\u001b[0m\u001b[0;34m\u001b[0m\u001b[0;34m\u001b[0m\u001b[0m\n\u001b[0m\u001b[1;32m      7\u001b[0m         \u001b[0mprint\u001b[0m\u001b[0;34m(\u001b[0m\u001b[0mprojected_polygon\u001b[0m\u001b[0;34m)\u001b[0m\u001b[0;34m\u001b[0m\u001b[0;34m\u001b[0m\u001b[0m\n\u001b[1;32m      8\u001b[0m         \u001b[0mprojected_polygons\u001b[0m\u001b[0;34m.\u001b[0m\u001b[0mappend\u001b[0m\u001b[0;34m(\u001b[0m\u001b[0mprojected_polygon\u001b[0m\u001b[0;34m)\u001b[0m\u001b[0;34m\u001b[0m\u001b[0;34m\u001b[0m\u001b[0m\n",
      "\u001b[0;32m~/Programming/WazeTT/.venv/lib/python3.8/site-packages/shapely/geometry/base.py\u001b[0m in \u001b[0;36m__str__\u001b[0;34m(self)\u001b[0m\n\u001b[1;32m    211\u001b[0m \u001b[0;34m\u001b[0m\u001b[0m\n\u001b[1;32m    212\u001b[0m     \u001b[0;32mdef\u001b[0m \u001b[0m__str__\u001b[0m\u001b[0;34m(\u001b[0m\u001b[0mself\u001b[0m\u001b[0;34m)\u001b[0m\u001b[0;34m:\u001b[0m\u001b[0;34m\u001b[0m\u001b[0;34m\u001b[0m\u001b[0m\n\u001b[0;32m--> 213\u001b[0;31m         \u001b[0;32mreturn\u001b[0m \u001b[0mself\u001b[0m\u001b[0;34m.\u001b[0m\u001b[0mwkt\u001b[0m\u001b[0;34m\u001b[0m\u001b[0;34m\u001b[0m\u001b[0m\n\u001b[0m\u001b[1;32m    214\u001b[0m \u001b[0;34m\u001b[0m\u001b[0m\n\u001b[1;32m    215\u001b[0m     \u001b[0;31m# To support pickling\u001b[0m\u001b[0;34m\u001b[0m\u001b[0;34m\u001b[0m\u001b[0;34m\u001b[0m\u001b[0m\n",
      "\u001b[0;32m~/Programming/WazeTT/.venv/lib/python3.8/site-packages/shapely/geometry/base.py\u001b[0m in \u001b[0;36mwkt\u001b[0;34m(self)\u001b[0m\n\u001b[1;32m    369\u001b[0m     \u001b[0;32mdef\u001b[0m \u001b[0mwkt\u001b[0m\u001b[0;34m(\u001b[0m\u001b[0mself\u001b[0m\u001b[0;34m)\u001b[0m\u001b[0;34m:\u001b[0m\u001b[0;34m\u001b[0m\u001b[0;34m\u001b[0m\u001b[0m\n\u001b[1;32m    370\u001b[0m         \u001b[0;34m\"\"\"WKT representation of the geometry\"\"\"\u001b[0m\u001b[0;34m\u001b[0m\u001b[0;34m\u001b[0m\u001b[0m\n\u001b[0;32m--> 371\u001b[0;31m         \u001b[0;32mreturn\u001b[0m \u001b[0mWKTWriter\u001b[0m\u001b[0;34m(\u001b[0m\u001b[0mlgeos\u001b[0m\u001b[0;34m)\u001b[0m\u001b[0;34m.\u001b[0m\u001b[0mwrite\u001b[0m\u001b[0;34m(\u001b[0m\u001b[0mself\u001b[0m\u001b[0;34m)\u001b[0m\u001b[0;34m\u001b[0m\u001b[0;34m\u001b[0m\u001b[0m\n\u001b[0m\u001b[1;32m    372\u001b[0m \u001b[0;34m\u001b[0m\u001b[0m\n\u001b[1;32m    373\u001b[0m     \u001b[0;34m@\u001b[0m\u001b[0mproperty\u001b[0m\u001b[0;34m\u001b[0m\u001b[0;34m\u001b[0m\u001b[0m\n",
      "\u001b[0;32m~/Programming/WazeTT/.venv/lib/python3.8/site-packages/shapely/geos.py\u001b[0m in \u001b[0;36mwrite\u001b[0;34m(self, geom)\u001b[0m\n\u001b[1;32m    400\u001b[0m             \u001b[0;32mraise\u001b[0m \u001b[0mInvalidGeometryError\u001b[0m\u001b[0;34m(\u001b[0m\u001b[0;34m\"Null geometry supports no operations\"\u001b[0m\u001b[0;34m)\u001b[0m\u001b[0;34m\u001b[0m\u001b[0;34m\u001b[0m\u001b[0m\n\u001b[1;32m    401\u001b[0m         \u001b[0mresult\u001b[0m \u001b[0;34m=\u001b[0m \u001b[0mself\u001b[0m\u001b[0;34m.\u001b[0m\u001b[0m_lgeos\u001b[0m\u001b[0;34m.\u001b[0m\u001b[0mGEOSWKTWriter_write\u001b[0m\u001b[0;34m(\u001b[0m\u001b[0mself\u001b[0m\u001b[0;34m.\u001b[0m\u001b[0m_writer\u001b[0m\u001b[0;34m,\u001b[0m \u001b[0mgeom\u001b[0m\u001b[0;34m.\u001b[0m\u001b[0m_geom\u001b[0m\u001b[0;34m)\u001b[0m\u001b[0;34m\u001b[0m\u001b[0;34m\u001b[0m\u001b[0m\n\u001b[0;32m--> 402\u001b[0;31m         \u001b[0mtext\u001b[0m \u001b[0;34m=\u001b[0m \u001b[0mstring_at\u001b[0m\u001b[0;34m(\u001b[0m\u001b[0mresult\u001b[0m\u001b[0;34m)\u001b[0m\u001b[0;34m\u001b[0m\u001b[0;34m\u001b[0m\u001b[0m\n\u001b[0m\u001b[1;32m    403\u001b[0m         \u001b[0mlgeos\u001b[0m\u001b[0;34m.\u001b[0m\u001b[0mGEOSFree\u001b[0m\u001b[0;34m(\u001b[0m\u001b[0mresult\u001b[0m\u001b[0;34m)\u001b[0m\u001b[0;34m\u001b[0m\u001b[0;34m\u001b[0m\u001b[0m\n\u001b[1;32m    404\u001b[0m         \u001b[0;32mreturn\u001b[0m \u001b[0mtext\u001b[0m\u001b[0;34m.\u001b[0m\u001b[0mdecode\u001b[0m\u001b[0;34m(\u001b[0m\u001b[0;34m'ascii'\u001b[0m\u001b[0;34m)\u001b[0m\u001b[0;34m\u001b[0m\u001b[0;34m\u001b[0m\u001b[0m\n",
      "\u001b[0;32m/usr/lib/python3.8/ctypes/__init__.py\u001b[0m in \u001b[0;36mstring_at\u001b[0;34m(ptr, size)\u001b[0m\n\u001b[1;32m    512\u001b[0m \u001b[0;34m\u001b[0m\u001b[0m\n\u001b[1;32m    513\u001b[0m     Return the string at addr.\"\"\"\n\u001b[0;32m--> 514\u001b[0;31m     \u001b[0;32mreturn\u001b[0m \u001b[0m_string_at\u001b[0m\u001b[0;34m(\u001b[0m\u001b[0mptr\u001b[0m\u001b[0;34m,\u001b[0m \u001b[0msize\u001b[0m\u001b[0;34m)\u001b[0m\u001b[0;34m\u001b[0m\u001b[0;34m\u001b[0m\u001b[0m\n\u001b[0m\u001b[1;32m    515\u001b[0m \u001b[0;34m\u001b[0m\u001b[0m\n\u001b[1;32m    516\u001b[0m \u001b[0;32mtry\u001b[0m\u001b[0;34m:\u001b[0m\u001b[0;34m\u001b[0m\u001b[0;34m\u001b[0m\u001b[0m\n",
      "\u001b[0;31mKeyboardInterrupt\u001b[0m: "
     ]
    }
   ],
   "source": [
    "# from shapely.geometry import Polygon\n",
    "\n",
    "# projected_polygons = []\n",
    "# for shapefile_polygon_wgs84 in shapefile_polygones_wgs84:\n",
    "#     projected_polygon = ascii_table_bb_polygon_wgs84.intersection(shapefile_polygon_wgs84)\n",
    "#     if projected_polygon.__str__() != 'POLYGON EMPTY':\n",
    "#         print(projected_polygon)\n",
    "#         projected_polygons.append(projected_polygon)"
   ]
  },
  {
   "cell_type": "markdown",
   "metadata": {},
   "source": [
    "# Convert the polygons into 2D ASCII Tables (Bertrand)"
   ]
  },
  {
   "cell_type": "code",
   "execution_count": null,
   "metadata": {},
   "outputs": [],
   "source": []
  },
  {
   "cell_type": "markdown",
   "metadata": {},
   "source": [
    "# Merge all the tiles information into a single data structure (Jérémy)"
   ]
  },
  {
   "cell_type": "markdown",
   "metadata": {},
   "source": [
    "# (Optionnal) Get shapefile BoundingBox coordinates\n",
    "WGS84 coordinates system (lat, long)"
   ]
  },
  {
   "cell_type": "code",
   "execution_count": 36,
   "metadata": {},
   "outputs": [
    {
     "name": "stdout",
     "output_type": "stream",
     "text": [
      "west_bound_longitude_decimal_value : 2.0629\n",
      "east_bound_longitude_decimal_value : 7.1856\n",
      "south_bound_latitude_decimal_value : 44.1155\n",
      "north_bound_latitude_decimal_value : 46.8043\n"
     ]
    }
   ],
   "source": [
    "# xml_path = gmd:MD_Metadata/gmd:identificationInfo/gmd:MD_DataIdentification/gmd:extent/gmd:EX_Extent/gmd:geographicElement/gmd:EX_GeographicBoundingBox\n",
    "import xml.etree.ElementTree as ET\n",
    "metadata_file_name = 'metadonnees.xml'\n",
    "tree = ET.parse(shapefile_dir_path + metadata_file_name)\n",
    "root = tree.getroot()\n",
    "\n",
    "namespaces = {\n",
    "                'gmd': '{http://www.isotc211.org/2005/gmd}',\n",
    "                'gco': '{http://www.isotc211.org/2005/gco}'\n",
    "            } # add more as needed\n",
    "\n",
    "EX_GeographicBoundingBox_element = list(root.iter(namespaces['gmd']+'EX_GeographicBoundingBox'))[0]\n",
    "\n",
    "west_bound_longitude_element = list(EX_GeographicBoundingBox_element.iter(namespaces['gmd']+'westBoundLongitude'))[0]\n",
    "west_bound_longitude_decimal_element = list(west_bound_longitude_element.iter(namespaces['gco']+'Decimal'))[0]\n",
    "west_bound_longitude_decimal_value = list(west_bound_longitude_decimal_element.itertext())[0]\n",
    "print('west_bound_longitude_decimal_value : {}'.format(west_bound_longitude_decimal_value))\n",
    "\n",
    "east_bound_longitude_element = list(EX_GeographicBoundingBox_element.iter(namespaces['gmd']+'eastBoundLongitude'))[0]\n",
    "east_bound_longitude_decimal_element = list(east_bound_longitude_element.iter(namespaces['gco']+'Decimal'))[0]\n",
    "east_bound_longitude_decimal_value = list(east_bound_longitude_decimal_element.itertext())[0]\n",
    "print('east_bound_longitude_decimal_value : {}'.format(east_bound_longitude_decimal_value))\n",
    "\n",
    "south_bound_latitude_element = list(EX_GeographicBoundingBox_element.iter(namespaces['gmd']+'southBoundLatitude'))[0]\n",
    "south_bound_latitude_decimal_element = list(south_bound_latitude_element.iter(namespaces['gco']+'Decimal'))[0]\n",
    "south_bound_latitude_decimal_value = list(south_bound_latitude_decimal_element.itertext())[0]\n",
    "print('south_bound_latitude_decimal_value : {}'.format(south_bound_latitude_decimal_value))\n",
    "\n",
    "north_bound_latitude_element = list(EX_GeographicBoundingBox_element.iter(namespaces['gmd']+'northBoundLatitude'))[0]\n",
    "north_bound_latitude_decimal_element = list(north_bound_latitude_element.iter(namespaces['gco']+'Decimal'))[0]\n",
    "north_bound_latitude_decimal_value = list(north_bound_latitude_decimal_element.itertext())[0]\n",
    "print('north_bound_latitude_decimal_value : {}'.format(north_bound_latitude_decimal_value))"
   ]
  }
 ],
 "metadata": {
  "interpreter": {
   "hash": "0727fce04a152e472e8079dbd947cfba806f7bfd684be5ca6c2326bf4c57dfdb"
  },
  "kernelspec": {
   "display_name": "Python 3.8.10 64-bit ('.venv': venv)",
   "language": "python",
   "name": "python3"
  },
  "language_info": {
   "codemirror_mode": {
    "name": "ipython",
    "version": 3
   },
   "file_extension": ".py",
   "mimetype": "text/x-python",
   "name": "python",
   "nbconvert_exporter": "python",
   "pygments_lexer": "ipython3",
   "version": "3.8.10"
  },
  "orig_nbformat": 4
 },
 "nbformat": 4,
 "nbformat_minor": 2
}
