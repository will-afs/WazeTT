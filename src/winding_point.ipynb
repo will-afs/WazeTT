{
 "cells": [
  {
   "cell_type": "code",
   "execution_count": 1,
   "id": "8635f1ff",
   "metadata": {},
   "outputs": [
    {
     "name": "stdout",
     "output_type": "stream",
     "text": [
      "0\n"
     ]
    }
   ],
   "source": [
    "from point_in_polygon import *\n",
    "from itertools import chain\n",
    "import geopandas as gpd\n",
    "from matplotlib import pyplot as plt"
   ]
  },
  {
   "cell_type": "markdown",
   "id": "3c691ade",
   "metadata": {},
   "source": [
    "# Load the alti table"
   ]
  },
  {
   "cell_type": "code",
   "execution_count": 2,
   "id": "30b5625b",
   "metadata": {},
   "outputs": [],
   "source": [
    "from alti_data import AltiData\n",
    "\n",
    "ascii_file_dir_path = \"../data/input/bd_alti/\"\n",
    "ascii_file_name = \"BDALTIV2_25M_FXX_0825_6550_MNT_LAMB93_IGN69.asc\"\n",
    "ascii_file_path = ascii_file_dir_path + ascii_file_name\n",
    "\n",
    "alti_data = AltiData(ascii_file_path)\n",
    "# print(alti_data.alti_table)"
   ]
  },
  {
   "cell_type": "markdown",
   "id": "62eaca79",
   "metadata": {},
   "source": [
    "# Creation of the cells center coordinates table"
   ]
  },
  {
   "cell_type": "code",
   "execution_count": 3,
   "id": "1599fac1",
   "metadata": {},
   "outputs": [],
   "source": [
    "# Calculate cells center coordinates table\n",
    "cells_center_coordinates = [[None for col in range(alti_data.ncols)] for row in range(alti_data.nrows)]\n",
    "nw_coord_ref_lamb93 = (\n",
    "                        alti_data.xllcorner_lamb93 + alti_data.cellsize/2,\n",
    "                        alti_data.yllcorner_lamb93 - alti_data.cellsize/2\n",
    "                    )\n",
    "\n",
    "for row in range(len(cells_center_coordinates)):\n",
    "    for col in range(len(cells_center_coordinates[0])):\n",
    "\n",
    "        cell_center_coord = (\n",
    "            nw_coord_ref_lamb93[0]+(col)*alti_data.cellsize,\n",
    "            nw_coord_ref_lamb93[1]-(row)*alti_data.cellsize\n",
    "        )\n",
    "        cells_center_coordinates[row][col] = cell_center_coord\n"
   ]
  },
  {
   "cell_type": "markdown",
   "id": "18ffa185",
   "metadata": {},
   "source": [
    "# Creation of the field table"
   ]
  },
  {
   "cell_type": "code",
   "execution_count": 4,
   "id": "bd961b0b",
   "metadata": {},
   "outputs": [
    {
     "name": "stdout",
     "output_type": "stream",
     "text": [
      "Number of rows : 1000\n",
      "Number of columns : 1000\n",
      "Cells content : sand\n"
     ]
    }
   ],
   "source": [
    "# Initializes the empty field 2D table\n",
    "field_table = [['sand' for col in range(alti_data.ncols)] for row in range(alti_data.nrows)]\n",
    "print('Number of rows : {}'.format(len(field_table[0])))\n",
    "print('Number of columns : {}'.format(len(field_table)))\n",
    "print('Cells content : {}'.format(field_table[0][0]))"
   ]
  },
  {
   "cell_type": "markdown",
   "id": "79762795",
   "metadata": {},
   "source": [
    "# Calculation of the coordinates of the dummy polygon of the second field to work with"
   ]
  },
  {
   "cell_type": "code",
   "execution_count": 5,
   "id": "00c05f07",
   "metadata": {},
   "outputs": [
    {
     "name": "stdout",
     "output_type": "stream",
     "text": [
      "nw (831237.5, 6518762.5)\n",
      "ne (843737.5, 6518762.5)\n",
      "se (843737.5, 6506262.5)\n",
      "sw (831237.5, 6506262.5)\n"
     ]
    }
   ],
   "source": [
    "#alti_bb_coord = alti_data.calc_bb_coordinates()\n",
    "\n",
    "dummy_rectangle_coord = {}\n",
    "width = alti_data.ncols*alti_data.cellsize\n",
    "height = alti_data.nrows*alti_data.cellsize\n",
    "dummy_rectangle_coord['nw'] = (\n",
    "                                alti_data.xllcorner_lamb93+1*width/4,\n",
    "                                alti_data.yllcorner_lamb93-1*height/4,\n",
    "                            )\n",
    "dummy_rectangle_coord['ne'] = (\n",
    "                                alti_data.xllcorner_lamb93+3*width/4,\n",
    "                                alti_data.yllcorner_lamb93-1*height/4,\n",
    "                            )\n",
    "dummy_rectangle_coord['se'] = (\n",
    "                                alti_data.xllcorner_lamb93+3*width/4,\n",
    "                                alti_data.yllcorner_lamb93-3*height/4,\n",
    "                            )\n",
    "dummy_rectangle_coord['sw'] = (\n",
    "                                alti_data.xllcorner_lamb93+1*width/4,\n",
    "                                alti_data.yllcorner_lamb93-3*height/4,\n",
    "                            )\n",
    "for k,v in dummy_rectangle_coord.items():\n",
    "    print(k, v)"
   ]
  },
  {
   "cell_type": "markdown",
   "id": "ee0e639f",
   "metadata": {},
   "source": [
    "# Create the polygon"
   ]
  },
  {
   "cell_type": "code",
   "execution_count": 6,
   "id": "b931fff2",
   "metadata": {},
   "outputs": [],
   "source": [
    "from shapely.geometry import Polygon\n",
    "\n",
    "dummy_rectangle_polygon = Polygon([\n",
    "                                    dummy_rectangle_coord['nw'],\n",
    "                                    dummy_rectangle_coord['ne'],\n",
    "                                    dummy_rectangle_coord['se'],\n",
    "                                    dummy_rectangle_coord['sw']\n",
    "                                ])\n"
   ]
  },
  {
   "cell_type": "markdown",
   "id": "afcf0d49",
   "metadata": {},
   "source": [
    "# Calculate polygon bounding box"
   ]
  },
  {
   "cell_type": "code",
   "execution_count": 7,
   "id": "734f19dc",
   "metadata": {},
   "outputs": [
    {
     "name": "stdout",
     "output_type": "stream",
     "text": [
      "{'nw': (831237.5, 6518762.5), 'ne': (843737.5, 6518762.5), 'se': (843737.5, 6506262.5), 'sw': (831237.5, 831237.5)}\n"
     ]
    }
   ],
   "source": [
    "polygon_bb_bounds = dummy_rectangle_polygon.bounds\n",
    "\n",
    "from coordinates_utils import bb_bounds_to_coord\n",
    "polygon_bb_coordinates = bb_bounds_to_coord(polygon_bb_bounds)\n",
    "print(polygon_bb_coordinates)"
   ]
  },
  {
   "cell_type": "markdown",
   "id": "da498aa7",
   "metadata": {},
   "source": [
    "# Convert the polygon into a vector"
   ]
  },
  {
   "cell_type": "code",
   "execution_count": 7,
   "id": "ff375540",
   "metadata": {},
   "outputs": [
    {
     "data": {
      "text/plain": [
       "1000"
      ]
     },
     "execution_count": 7,
     "metadata": {},
     "output_type": "execute_result"
    }
   ],
   "source": [
    "# Pass\n",
    "len(field_table)"
   ]
  },
  {
   "cell_type": "markdown",
   "id": "05780e2d",
   "metadata": {},
   "source": [
    "# (Temporary) Create a vector from the dummy_rectangle_coord"
   ]
  },
  {
   "cell_type": "code",
   "execution_count": 8,
   "id": "378e1808",
   "metadata": {},
   "outputs": [],
   "source": [
    "V = [dummy_rectangle_coord['nw'], dummy_rectangle_coord['ne'], dummy_rectangle_coord['se'], dummy_rectangle_coord['sw']]"
   ]
  },
  {
   "cell_type": "markdown",
   "id": "ba11513a",
   "metadata": {},
   "source": [
    "# Fill the polygon into the field map"
   ]
  },
  {
   "cell_type": "code",
   "execution_count": 10,
   "id": "f672cea3",
   "metadata": {},
   "outputs": [],
   "source": [
    "from winding_point_utils import wn_PnPoly\n",
    "for i in range(len(field_table)):\n",
    "    for j in range(len(field_table[0])):\n",
    "        if wn_PnPoly(cells_center_coordinates[i][j],V):# if true, the pixel is inside the shape\n",
    "            field_table[i][j] = 'wood'"
   ]
  },
  {
   "cell_type": "code",
   "execution_count": 12,
   "id": "b000d55a",
   "metadata": {},
   "outputs": [
    {
     "data": {
      "text/plain": [
       "<function matplotlib.pyplot.show(close=None, block=None)>"
      ]
     },
     "execution_count": 12,
     "metadata": {},
     "output_type": "execute_result"
    },
    {
     "data": {
      "image/png": "[encoded data removed]",
      "text/plain": [
       "<Figure size 432x288 with 1 Axes>"
      ]
     },
     "metadata": {
      "needs_background": "light"
     },
     "output_type": "display_data"
    }
   ],
   "source": [
    "###### Objectif : Remplir la liste avec winding point ######\n",
    "import numpy as np\n",
    "import matplotlib.pyplot as plt\n",
    "img = np.zeros((1000,1000,3))\n",
    "for i in range(1000):\n",
    "    for j in range(1000):\n",
    "        if field_table[i][j] == 'wood':\n",
    "            img[i][j][0] = 0.34\n",
    "            img[i][j][1] = 0.39\n",
    "            img[i][j][2] = 0.26\n",
    "        else:\n",
    "            img[i][j][0] = 1\n",
    "            img[i][j][1] = 0.79\n",
    "            img[i][j][2] = 0.39\n",
    "plt.imshow(img)\n",
    "plt.show\n",
    "\n",
    "\n",
    "\n"
   ]
  },
  {
   "cell_type": "code",
   "execution_count": 4,
   "id": "64744c16",
   "metadata": {},
   "outputs": [
    {
     "name": "stdout",
     "output_type": "stream",
     "text": [
      "(930919.0999999201, 6444069.400002149) \n",
      " (930995.9999999201, 6444135.700002148)\n"
     ]
    },
    {
     "data": {
      "image/png": "[encoded data removed]",
      "text/plain": [
       "<Figure size 432x288 with 1 Axes>"
      ]
     },
     "metadata": {
      "needs_background": "light"
     },
     "output_type": "display_data"
    }
   ],
   "source": [
    "# gdf = gpd.read_file(\"AERODROME.shp\")\n",
    "\n",
    "# ####### 0  -  Trouver les 4 coins d'un shape #######\n",
    "\n",
    "# a = gdf[\"geometry\"][0].bounds[0]\n",
    "# b = gdf[\"geometry\"][0].bounds[1]\n",
    "# c = gdf[\"geometry\"][0].bounds[2]\n",
    "# d = gdf[\"geometry\"][0].bounds[3]\n",
    "# point_1= (a,b)\n",
    "# point_2 = (c,d)\n",
    "# print(point_1, \"\\n\", point_2)\n",
    "# plt.plot(point_1, point_2 ,marker=\"o\", color=\"red\")\n",
    "# plt.show()\n",
    "# ####### 1  -  Convertire shp en liste python ####### \n",
    "\n",
    "# a = ([list(gdf[\"geometry\"].geometry.exterior[row_id].coords) for row_id in range(gdf[\"geometry\"].shape[0])])\n",
    "# #print(int(a[0][0][0]))\n",
    "# #print(a[0][0][1])\n",
    "# #print(gdf[\"geometry\"])\n",
    "\n",
    "# ####### 2  -  Tester si le point est à l'intérieur  #######  \n",
    "\n"
   ]
  },
  {
   "cell_type": "markdown",
   "id": "7b3811fc",
   "metadata": {},
   "source": [
    "\n"
   ]
  },
  {
   "cell_type": "code",
   "execution_count": null,
   "id": "506fea9e",
   "metadata": {},
   "outputs": [],
   "source": []
  }
 ],
 "metadata": {
  "kernelspec": {
   "display_name": "Python 3 (ipykernel)",
   "language": "python",
   "name": "python3"
  },
  "language_info": {
   "codemirror_mode": {
    "name": "ipython",
    "version": 3
   },
   "file_extension": ".py",
   "mimetype": "text/x-python",
   "name": "python",
   "nbconvert_exporter": "python",
   "pygments_lexer": "ipython3",
   "version": "3.8.10"
  }
 },
 "nbformat": 4,
 "nbformat_minor": 5
}
