{
 "cells": [
  {
   "cell_type": "markdown",
   "metadata": {},
   "source": [
    "# Notebook configuration"
   ]
  },
  {
   "cell_type": "code",
   "execution_count": 1,
   "metadata": {},
   "outputs": [
    {
     "name": "stdout",
     "output_type": "stream",
     "text": [
      "{'title': 'Sprint 3b config', 'input_data': {'shapefile_dir_path': '/home/william/Programming/WazeTT/data/input/bd_topo/ZONE_VEGETATION/', 'shapefile_name': 'ZONE_VEGETATION.shp', 'ascii_file_dir_path': '../data/input/bd_alti/', 'ascii_file_name': 'BDALTIV2_25M_FXX_0825_6550_MNT_LAMB93_IGN69.asc'}, 'nominal_speeds': {'walk': {'reference': 6, 'bush': 30, 'sand': 60, 'road': 100, 'building': 0, 'water': 0, 'snow': 80, 'angle': [{'range': [15, 90], 'coef': 0}, {'range': [10, 15], 'coef': 20}, {'range': [5, 10], 'coef': 60}, {'range': [0, 5], 'coef': 100}, {'range': [0, -5], 'coef': 110}, {'range': [-5, -15], 'coef': 130}, {'range': [-15, -90], 'coef': 0}]}}, 'isochrones': [{'id': 1, 'time': 5}, {'id': 2, 'time': 10}, {'id': 3, 'time': 30}]}\n"
     ]
    }
   ],
   "source": [
    "# Load project config\n",
    "import toml\n",
    "\n",
    "config = toml.load('../config.toml')\n",
    "print(config)"
   ]
  },
  {
   "cell_type": "code",
   "execution_count": 2,
   "metadata": {},
   "outputs": [
    {
     "name": "stdout",
     "output_type": "stream",
     "text": [
      "/home/william/Programming/WazeTT/data/input/bd_topo/ZONE_VEGETATION/ZONE_VEGETATION.shp\n",
      "../data/input/bd_alti/BDALTIV2_25M_FXX_0825_6550_MNT_LAMB93_IGN69.asc\n",
      "[{'id': 1, 'time': 5}, {'id': 2, 'time': 10}, {'id': 3, 'time': 30}]\n",
      "[{'id': 1, 'time': 5}, {'id': 2, 'time': 10}, {'id': 3, 'time': 30}]\n",
      "[{'id': 1, 'time': 5}, {'id': 2, 'time': 10}, {'id': 3, 'time': 30}]\n",
      "\n",
      "{'reference': 6, 'bush': 30, 'sand': 60, 'road': 100, 'building': 0, 'water': 0, 'snow': 80, 'angle': [{'range': [15, 90], 'coef': 0}, {'range': [10, 15], 'coef': 20}, {'range': [5, 10], 'coef': 60}, {'range': [0, 5], 'coef': 100}, {'range': [0, -5], 'coef': 110}, {'range': [-5, -15], 'coef': 130}, {'range': [-15, -90], 'coef': 0}]}\n",
      "range\t[15, 90]\n",
      "coef\t0\n",
      "range\t[10, 15]\n",
      "coef\t20\n",
      "range\t[5, 10]\n",
      "coef\t60\n",
      "range\t[0, 5]\n",
      "coef\t100\n",
      "range\t[0, -5]\n",
      "coef\t110\n",
      "range\t[-5, -15]\n",
      "coef\t130\n",
      "range\t[-15, -90]\n",
      "coef\t0\n"
     ]
    }
   ],
   "source": [
    "# Config import examples\n",
    "shapefile_path = config['input_data']['shapefile_dir_path'] + config['input_data']['shapefile_name']\n",
    "print(shapefile_path)\n",
    "\n",
    "ascii_file_path = config['input_data']['ascii_file_dir_path'] + config['input_data']['ascii_file_name']\n",
    "print(ascii_file_path)\n",
    "\n",
    "isochrones = config['isochrones']\n",
    "for isochrone in isochrones:\n",
    "    print(isochrones)\n",
    "\n",
    "nominal_speed_walk = config['nominal_speeds']['walk']\n",
    "print()\n",
    "print(nominal_speed_walk)\n",
    "for angle in config['nominal_speeds']['walk']['angle']:\n",
    "    for range, coef in angle.items():\n",
    "        print('{}\\t{}'.format(range, coef))"
   ]
  },
  {
   "cell_type": "markdown",
   "metadata": {},
   "source": [
    "# Load 2D tables"
   ]
  },
  {
   "cell_type": "code",
   "execution_count": 4,
   "metadata": {},
   "outputs": [],
   "source": [
    "from alti_data import AltiData\n",
    "alti_data = AltiData(ascii_file_path)\n",
    "print(alti_data.alti_table)"
   ]
  },
  {
   "cell_type": "code",
   "execution_count": 5,
   "metadata": {},
   "outputs": [],
   "source": []
  },
  {
   "cell_type": "markdown",
   "metadata": {},
   "source": [
    "# Calculate departure coordinates"
   ]
  },
  {
   "cell_type": "code",
   "execution_count": 7,
   "metadata": {},
   "outputs": [
    {
     "name": "stdout",
     "output_type": "stream",
     "text": [
      "(837487.5, 6537512.5)\n"
     ]
    }
   ],
   "source": [
    "departure_coord = (\n",
    "    alti_data['xllcorner_lamb93']+(alti_data ['ncols']*alti_data['cellsize'])/2,\n",
    "    alti_data['yllcorner_lamb93']+(alti_data ['nrows']*alti_data['cellsize'])/2\n",
    ")\n",
    "print(departure_coord)"
   ]
  },
  {
   "cell_type": "markdown",
   "metadata": {},
   "source": [
    "# Calculate isochrone(s)"
   ]
  },
  {
   "cell_type": "markdown",
   "metadata": {},
   "source": [
    "# Plot isochrone(s) on map"
   ]
  }
 ],
 "metadata": {
  "interpreter": {
   "hash": "0727fce04a152e472e8079dbd947cfba806f7bfd684be5ca6c2326bf4c57dfdb"
  },
  "kernelspec": {
   "display_name": "Python 3.8.10 64-bit ('.venv': venv)",
   "language": "python",
   "name": "python3"
  },
  "language_info": {
   "codemirror_mode": {
    "name": "ipython",
    "version": 3
   },
   "file_extension": ".py",
   "mimetype": "text/x-python",
   "name": "python",
   "nbconvert_exporter": "python",
   "pygments_lexer": "ipython3",
   "version": "3.8.10"
  },
  "orig_nbformat": 4
 },
 "nbformat": 4,
 "nbformat_minor": 2
}
