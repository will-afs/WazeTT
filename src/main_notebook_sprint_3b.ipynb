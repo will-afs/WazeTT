{
 "cells": [
  {
   "cell_type": "markdown",
   "metadata": {},
   "source": [
    "# Notebook configuration"
   ]
  },
  {
   "cell_type": "code",
   "execution_count": 273,
   "metadata": {},
   "outputs": [
    {
     "name": "stdout",
     "output_type": "stream",
     "text": [
      "{'title': 'Sprint 3b config', 'input_data': {'shapefile_dir_path': '/home/william/Programming/WazeTT/data/input/bd_topo/ZONE_VEGETATION/', 'shapefile_name': 'ZONE_VEGETATION.shp', 'ascii_file_dir_path': '../data/input/bd_alti/', 'ascii_file_name': 'BDALTIV2_25M_FXX_0825_6550_MNT_LAMB93_IGN69.asc'}, 'nominal_speeds': {'walk': {'reference': 100, 'bush': 0.3, 'sand': 0.6, 'grass': 1, 'road': 1, 'building': 0, 'water': 0, 'snow': 0.8, 'angle': [{'range': [15, 90], 'coef': 0}, {'range': [10, 15], 'coef': 0.2}, {'range': [5, 10], 'coef': 0.6}, {'range': [0, 5], 'coef': 1}, {'range': [-5, 0], 'coef': 1.1}, {'range': [-15, -5], 'coef': 1.3}, {'range': [-90, -15], 'coef': 0}]}}, 'isochrones': [{'id': 1, 'time': 5}, {'id': 2, 'time': 10}, {'id': 3, 'time': 30}]}\n"
     ]
    }
   ],
   "source": [
    "# Load project config\n",
    "import toml\n",
    "\n",
    "config = toml.load('../config.toml')\n",
    "print(config)"
   ]
  },
  {
   "cell_type": "code",
   "execution_count": 274,
   "metadata": {},
   "outputs": [
    {
     "name": "stdout",
     "output_type": "stream",
     "text": [
      "/home/william/Programming/WazeTT/data/input/bd_topo/ZONE_VEGETATION/ZONE_VEGETATION.shp\n",
      "../data/input/bd_alti/BDALTIV2_25M_FXX_0825_6550_MNT_LAMB93_IGN69.asc\n",
      "[{'id': 1, 'time': 5}, {'id': 2, 'time': 10}, {'id': 3, 'time': 30}]\n",
      "[{'id': 1, 'time': 5}, {'id': 2, 'time': 10}, {'id': 3, 'time': 30}]\n",
      "[{'id': 1, 'time': 5}, {'id': 2, 'time': 10}, {'id': 3, 'time': 30}]\n",
      "\n",
      "{'reference': 100, 'bush': 0.3, 'sand': 0.6, 'grass': 1, 'road': 1, 'building': 0, 'water': 0, 'snow': 0.8, 'angle': [{'range': [15, 90], 'coef': 0}, {'range': [10, 15], 'coef': 0.2}, {'range': [5, 10], 'coef': 0.6}, {'range': [0, 5], 'coef': 1}, {'range': [-5, 0], 'coef': 1.1}, {'range': [-15, -5], 'coef': 1.3}, {'range': [-90, -15], 'coef': 0}]}\n",
      "range\t[15, 90]\n",
      "coef\t0\n",
      "range\t[10, 15]\n",
      "coef\t0.2\n",
      "range\t[5, 10]\n",
      "coef\t0.6\n",
      "range\t[0, 5]\n",
      "coef\t1\n",
      "range\t[-5, 0]\n",
      "coef\t1.1\n",
      "range\t[-15, -5]\n",
      "coef\t1.3\n",
      "range\t[-90, -15]\n",
      "coef\t0\n"
     ]
    }
   ],
   "source": [
    "# Config import examples\n",
    "shapefile_path = config['input_data']['shapefile_dir_path'] + config['input_data']['shapefile_name']\n",
    "print(shapefile_path)\n",
    "\n",
    "ascii_file_path = config['input_data']['ascii_file_dir_path'] + config['input_data']['ascii_file_name']\n",
    "print(ascii_file_path)\n",
    "\n",
    "isochrones = config['isochrones']\n",
    "for isochrone in isochrones:\n",
    "    print(isochrones)\n",
    "\n",
    "nominal_speed_walk = config['nominal_speeds']['walk']\n",
    "print()\n",
    "print(nominal_speed_walk)\n",
    "for angle in config['nominal_speeds']['walk']['angle']:\n",
    "    for range, coef in angle.items():\n",
    "        print('{}\\t{}'.format(range, coef))"
   ]
  },
  {
   "cell_type": "markdown",
   "metadata": {},
   "source": [
    "# Load 2D tables"
   ]
  },
  {
   "cell_type": "code",
   "execution_count": 275,
   "metadata": {},
   "outputs": [
    {
     "name": "stdout",
     "output_type": "stream",
     "text": [
      "grass\n"
     ]
    }
   ],
   "source": [
    "# from alti_data import AltiData\n",
    "# alti_data = AltiData(ascii_file_path)\n",
    "import numpy as np\n",
    "\n",
    "# alti_table = np.full((50,50), 10)\n",
    "alti_table = np.array([ [20,20,19,19,16],\n",
    "                        [20,20,22,17,20],\n",
    "                        [18,19,20,18,13],\n",
    "                        [19,20,22,20,20],\n",
    "                        [18,21,21,21,25]])\n",
    "field_table = np.array([    ['water','road','snow','road','road'],\n",
    "                            ['road','water','snow','road','road'],\n",
    "                            ['sand','grass','grass','bush','bush'],\n",
    "                            ['sand','sand','grass','grass','bush'],\n",
    "                            ['grass','sand','grass','bush','bush']])\n",
    "\n",
    "# print(alti_table)\n",
    "print(field_table[2,2])\n"
   ]
  },
  {
   "cell_type": "markdown",
   "metadata": {},
   "source": [
    "# Calculate departure coordinates"
   ]
  },
  {
   "cell_type": "code",
   "execution_count": 276,
   "metadata": {},
   "outputs": [],
   "source": [
    "# departure_coord = (\n",
    "#     alti_table['xllcorner_lamb93']+(alti_table ['ncols']*alti_table['cellsize'])/2,\n",
    "#     alti_table['yllcorner_lamb93']+(alti_table ['nrows']*alti_table['cellsize'])/2\n",
    "# )\n",
    "# print(departure_coord)"
   ]
  },
  {
   "cell_type": "markdown",
   "metadata": {},
   "source": [
    "# Calculate isochrone(s)"
   ]
  },
  {
   "cell_type": "markdown",
   "metadata": {},
   "source": [
    "### Configuration variables"
   ]
  },
  {
   "cell_type": "code",
   "execution_count": 277,
   "metadata": {},
   "outputs": [
    {
     "name": "stdout",
     "output_type": "stream",
     "text": [
      "{'reference': 100, 'bush': 0.3, 'sand': 0.6, 'grass': 1, 'road': 1, 'building': 0, 'water': 0, 'snow': 0.8, 'angle': [{'range': [15, 90], 'coef': 0}, {'range': [10, 15], 'coef': 0.2}, {'range': [5, 10], 'coef': 0.6}, {'range': [0, 5], 'coef': 1}, {'range': [-5, 0], 'coef': 1.1}, {'range': [-15, -5], 'coef': 1.3}, {'range': [-90, -15], 'coef': 0}]}\n"
     ]
    }
   ],
   "source": [
    "import numpy as np\n",
    "from math import sqrt, acos, degrees\n",
    "\n",
    "speed = config['nominal_speeds']['walk']['reference']\n",
    "field_coef = config['nominal_speeds']['walk']\n",
    "angle_coef = config['nominal_speeds']['walk']['angle']\n",
    "# alpha = alpha[0]['coef']\n",
    "\n",
    "print (field_coef)\n"
   ]
  },
  {
   "cell_type": "markdown",
   "metadata": {},
   "source": [
    "### Cost Function"
   ]
  },
  {
   "cell_type": "code",
   "execution_count": 278,
   "metadata": {},
   "outputs": [],
   "source": [
    "\n",
    "\n",
    "# inputs : indice initial, primary move, alti_table, field_table\n",
    "# output : delta\n",
    "\n",
    "# Taille de cellule\n",
    "\n",
    "dalle_length = 25 # m\n",
    "\n",
    "initial_position = (2, 2)\n",
    "\n",
    "primary_move = [(0,1),(1,1),(1,0),(1,-1),(0,-1),(-1,-1),(-1,0),(-1,1)]\n",
    "\n",
    "def cost(initial_summit: tuple, primary_move: tuple, alti_table: list, field_table: list) -> float:\n",
    "\n",
    "    denivele_initial = alti_table [initial_summit[0]][initial_summit[1]]\n",
    "\n",
    "    #Diagonal movement or lateral movement\n",
    "    if primary_move == (1,1) or primary_move == (1,-1) or primary_move == (-1,1) or primary_move == (-1,-1):\n",
    "        distance = dalle_length*sqrt(2)\n",
    "    else:\n",
    "        distance = dalle_length\n",
    "    denivele = alti_table [initial_summit[0]+primary_move[0]][initial_summit[1]+primary_move[1]]-denivele_initial\n",
    "    if denivele < 0:\n",
    "        angle = -degrees(acos(distance/sqrt(distance*distance+denivele*denivele)))\n",
    "    else :\n",
    "        angle = degrees(acos(distance/sqrt(distance*distance+denivele*denivele)))\n",
    "\n",
    "    \n",
    "    #Determining the coefficient alpha linked to the field\n",
    "    milieu1 = field_table[initial_summit[0]][initial_summit[1]]\n",
    "    milieu2 = field_table[initial_summit[0]+primary_move[0]][initial_summit[1]+primary_move[1]]\n",
    "\n",
    "    alpha1 = field_coef[milieu1]\n",
    "    alpha2 = field_coef[milieu2]\n",
    "\n",
    "    #Determining the coefficient beta linked to the angle\n",
    "    if angle_coef[0]['range'][0] <= angle <= angle_coef[0]['range'][1]:\n",
    "        beta = angle_coef[0]['coef']\n",
    "    elif angle_coef[1]['range'][0] <= angle < angle_coef[1]['range'][1]:\n",
    "        beta = angle_coef[1]['coef']\n",
    "    elif angle_coef[2]['range'][0] <= angle < angle_coef[2]['range'][1]:\n",
    "        beta = angle_coef[2]['coef']\n",
    "    elif angle_coef[3]['range'][0] <= angle < angle_coef[3]['range'][1]:\n",
    "        beta = angle_coef[3]['coef']\n",
    "    elif angle_coef[4]['range'][0] <= angle < angle_coef[4]['range'][1]:\n",
    "        beta = angle_coef[4]['coef']\n",
    "    elif angle_coef[5]['range'][0] <= angle < angle_coef[5]['range'][1]:\n",
    "        beta = angle_coef[5]['coef']\n",
    "    else:\n",
    "        beta = angle_coef[6]['coef']\n",
    "\n",
    "    \n",
    "    #Calculate the time to go from the initial position to the target position\n",
    "    if beta == 0 or milieu1 == 'water' or milieu2 == 'water':\n",
    "        return -100\n",
    "    else :\n",
    "        if primary_move == (1,1) or primary_move == (1,-1) or primary_move == (-1,1) or primary_move == (-1,-1):\n",
    "            return (sqrt(distance*distance+denivele*denivele))/(((alpha1+alpha2)/2)*beta*speed)\n",
    "        else:\n",
    "            return (sqrt(dalle_length*dalle_length+denivele*denivele))/(((alpha1+alpha2)/2)*beta*speed)\n",
    "\n"
   ]
  },
  {
   "cell_type": "markdown",
   "metadata": {},
   "source": [
    "### Graph initialization"
   ]
  },
  {
   "cell_type": "code",
   "execution_count": 279,
   "metadata": {},
   "outputs": [
    {
     "name": "stdout",
     "output_type": "stream",
     "text": [
      "[[100. 100. 100. 100. 100.]\n",
      " [100. 100. 100. 100. 100.]\n",
      " [100. 100. 100. 100. 100.]\n",
      " [100. 100. 100. 100. 100.]\n",
      " [100. 100. 100. 100. 100.]]\n"
     ]
    }
   ],
   "source": [
    "# initial_summit = neighbors[0]\n",
    "\n",
    "unknown_table = np.full(alti_table.shape, 100, dtype =float)\n",
    "print(unknown_table)\n"
   ]
  },
  {
   "cell_type": "markdown",
   "metadata": {},
   "source": [
    "### Graph Algorithm"
   ]
  },
  {
   "cell_type": "code",
   "execution_count": 280,
   "metadata": {},
   "outputs": [],
   "source": [
    "initial_time = 10\n",
    "unknown_table[initial_position] = initial_time\n",
    "ancient_neighbors = []\n",
    "\n",
    "#Initialization of the 8 neighbors\n",
    "neighbors = []\n",
    "neighbors=[initial_position]\n"
   ]
  },
  {
   "cell_type": "markdown",
   "metadata": {},
   "source": [
    "#### Testing cost function for one movement"
   ]
  },
  {
   "cell_type": "code",
   "execution_count": 281,
   "metadata": {},
   "outputs": [
    {
     "name": "stdout",
     "output_type": "stream",
     "text": [
      "10.0\n",
      "9.677432818196179\n"
     ]
    }
   ],
   "source": [
    "print (unknown_table[initial_position])\n",
    "mv = (-1,1)\n",
    "test = unknown_table[initial_position] - cost(initial_position, mv, alti_table, field_table)\n",
    "print (test)\n",
    "# print (cost(initial_position, mv, alti_table, field_table))\n",
    "# print(-degrees(acos(dalle_lenght*sqrt(2)/sqrt(dalle_lenght*sqrt(2)*dalle_lenght*sqrt(2)+4*4))))\n",
    "# print(angle_coef[5]['range'][0])\n",
    "# print(angle_coef[5]['range'][1])\n",
    "# print(angle_coef[5]['coef'])"
   ]
  },
  {
   "cell_type": "code",
   "execution_count": 282,
   "metadata": {},
   "outputs": [
    {
     "data": {
      "text/plain": [
       "array([[109.419,   9.364,   9.479,   9.427,   9.356],\n",
       "       [  9.419, 110.   ,   9.721,   9.677,   9.258],\n",
       "       [  9.488,   9.773,  10.   ,   9.649,   9.256],\n",
       "       [  9.331,   9.558,   9.749,   9.646,   9.262],\n",
       "       [  9.156,   9.347,   9.522,   9.262,   8.731]])"
      ]
     },
     "metadata": {},
     "output_type": "display_data"
    },
    {
     "data": {
      "text/plain": [
       "(0, 4)"
      ]
     },
     "metadata": {},
     "output_type": "display_data"
    },
    {
     "name": "stdout",
     "output_type": "stream",
     "text": [
      "Graph skimmed\n"
     ]
    }
   ],
   "source": [
    "import time\n",
    "from IPython.display import display, clear_output\n",
    "\n",
    "while len(neighbors) > 0 :\n",
    "    \n",
    "    #  1-Take an initial position on the graph\n",
    "    #  2-Choose the first summit in the stack\n",
    "    #  3-Annotate the neighbors of this summit\n",
    "    #    a) For each neighbor of this summit : \n",
    "    #      - It is part of the boundary = > nothing to do\n",
    "    #      - It is unknown => calculate the movement; add it to the boundary, remove from the boundary list\n",
    "    \n",
    "    initial_summit = neighbors[0]\n",
    "    for i in primary_move :\n",
    "        if (0 <= initial_summit[0]+i[0] < unknown_table.shape[0]) and (0 <= initial_summit[1]+i[1] < unknown_table.shape[1]) :\n",
    "            # Check whether the target summit does not go out of the map\n",
    "            target_summit=((initial_summit[0]+i[0],initial_summit[1]+i[1]))\n",
    "            time_cost = cost(initial_summit, i, alti_table, field_table)\n",
    "            if unknown_table[target_summit] == 100 or \\\n",
    "            initial_time > unknown_table[initial_summit] - time_cost > unknown_table[target_summit]: # unknown summit\n",
    "                if unknown_table[initial_summit] - time_cost >= 0 : # possible move\n",
    "                    unknown_table[target_summit] = unknown_table[initial_summit] - time_cost\n",
    "                if target_summit not in neighbors and field_table[target_summit] != 'water':\n",
    "                    neighbors.append(target_summit)\n",
    "                    ancient_neighbors.append(target_summit)\n",
    "\n",
    "    if initial_summit in neighbors : \n",
    "        neighbors.remove(initial_summit)\n",
    "    \n",
    "    clear_output(wait=True)\n",
    "    display(np.around(unknown_table,decimals=3))\n",
    "    display(initial_summit)\n",
    "    time.sleep(1)\n",
    "\n",
    "print(\"Graph skimmed\")"
   ]
  },
  {
   "cell_type": "code",
   "execution_count": 272,
   "metadata": {},
   "outputs": [
    {
     "name": "stdout",
     "output_type": "stream",
     "text": [
      "[[109.419   9.364   9.479   9.427   9.356]\n",
      " [  9.419 110.      9.721   9.677   9.258]\n",
      " [  9.488   9.773  10.      9.649   9.256]\n",
      " [  9.331   9.558   9.749   9.646   9.262]\n",
      " [  9.156   9.347   9.522   9.262   8.731]]\n"
     ]
    }
   ],
   "source": [
    "print(np.around(unknown_table,decimals=3))"
   ]
  },
  {
   "cell_type": "markdown",
   "metadata": {},
   "source": [
    "# Plot isochrone(s) on map"
   ]
  }
 ],
 "metadata": {
  "interpreter": {
   "hash": "0727fce04a152e472e8079dbd947cfba806f7bfd684be5ca6c2326bf4c57dfdb"
  },
  "kernelspec": {
   "display_name": "Python 3.8.10 64-bit ('.venv': venv)",
   "language": "python",
   "name": "python3"
  },
  "language_info": {
   "codemirror_mode": {
    "name": "ipython",
    "version": 3
   },
   "file_extension": ".py",
   "mimetype": "text/x-python",
   "name": "python",
   "nbconvert_exporter": "python",
   "pygments_lexer": "ipython3",
   "version": "3.8.10"
  },
  "orig_nbformat": 4
 },
 "nbformat": 4,
 "nbformat_minor": 2
}
