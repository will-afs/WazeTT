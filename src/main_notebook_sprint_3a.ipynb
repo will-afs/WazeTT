{
 "cells": [
  {
   "cell_type": "markdown",
   "metadata": {},
   "source": [
    "# Notebook configuration"
   ]
  },
  {
   "cell_type": "code",
   "execution_count": 2,
   "metadata": {},
   "outputs": [],
   "source": [
    "# Configuration\n",
    "shapefile_dir_path = '/home/william/Programming/WazeTT/data/input/bd_topo/ZONE_VEGETATION/'\n",
    "shapefile_name = 'ZONE_VEGETATION.shp'\n",
    "shapefile_path = shapefile_dir_path + shapefile_name\n",
    "\n",
    "tiles_dir_path = '../data/input/bd_alti/'\n",
    "tiles_name = 'dalles.shp'\n",
    "tiles_path = tiles_dir_path + tiles_name\n",
    "\n",
    "ascii_file_dir_path = '../data/input/bd_alti/'\n",
    "ascii_file_name = 'BDALTIV2_25M_FXX_0825_6550_MNT_LAMB93_IGN69.asc'"
   ]
  },
  {
   "cell_type": "markdown",
   "metadata": {},
   "source": [
    "# Load the ascii file in memory"
   ]
  },
  {
   "cell_type": "code",
   "execution_count": 3,
   "metadata": {},
   "outputs": [
    {
     "name": "stdout",
     "output_type": "stream",
     "text": [
      "824987.5\n"
     ]
    }
   ],
   "source": [
    "with open(ascii_file_dir_path + ascii_file_name, 'r') as ascii_file:\n",
    "    ncols = int(ascii_file.readline().replace('ncols', '').replace(' ', '').replace('\\n', ''))\n",
    "    nrows = int(ascii_file.readline().replace('nrows', '').replace(' ', '').replace('\\n', ''))\n",
    "    xllcorner_lamb93 = float(ascii_file.readline().replace('xllcorner', '').replace(' ', '').replace('\\n', ''))\n",
    "    yllcorner_lamb93 = float(ascii_file.readline().replace('yllcorner', '').replace(' ', '').replace('\\n', ''))\n",
    "    cellsize = int(float(ascii_file.readline().replace('cellsize', '').replace(' ', '').replace('\\n', '')))\n",
    "    NODATA_value = float(ascii_file.readline().replace('NODATA_value', '').replace(' ', '').replace('\\n', ''))\n",
    "    ascii_table = []\n",
    "    for line in ascii_file.readlines():\n",
    "        ascii_line = line.split(' ')\n",
    "        ascii_line.remove('')\n",
    "        ascii_table.append([float(cell) for cell in ascii_line])\n",
    "    print(xllcorner_lamb93)"
   ]
  },
  {
   "cell_type": "markdown",
   "metadata": {},
   "source": [
    "# Deduce its Bounding Box coordinates in Lamb93 (xll, yll)"
   ]
  },
  {
   "cell_type": "code",
   "execution_count": 4,
   "metadata": {},
   "outputs": [
    {
     "name": "stdout",
     "output_type": "stream",
     "text": [
      "ascii_table_west_bound_xll_lamb93 : 824987.5\n",
      "ascii_table_east_bound_xll_lamb93 : 849987.5\n",
      "ascii_table_south_bound_yll_lamb93 : 6500012.5\n",
      "ascii_table_north_bound_yll_lamb93 : 6525012.5\n"
     ]
    }
   ],
   "source": [
    "ascii_table_west_bound_xll_lamb93 = xllcorner_lamb93\n",
    "ascii_table_east_bound_xll_lamb93 = xllcorner_lamb93 + cellsize*ncols\n",
    "ascii_table_south_bound_yll_lamb93 = yllcorner_lamb93 - cellsize*nrows\n",
    "ascii_table_north_bound_yll_lamb93 = yllcorner_lamb93\n",
    "\n",
    "ascii_table_bb_coord_lamb93 = (\n",
    "                                ascii_table_west_bound_xll_lamb93,\n",
    "                                ascii_table_east_bound_xll_lamb93,\n",
    "                                ascii_table_south_bound_yll_lamb93,\n",
    "                                ascii_table_north_bound_yll_lamb93\n",
    "                            )\n",
    "\n",
    "print('ascii_table_west_bound_xll_lamb93 : {}'.format(ascii_table_west_bound_xll_lamb93))\n",
    "print('ascii_table_east_bound_xll_lamb93 : {}'.format(ascii_table_east_bound_xll_lamb93))\n",
    "print('ascii_table_south_bound_yll_lamb93 : {}'.format(ascii_table_south_bound_yll_lamb93))\n",
    "print('ascii_table_north_bound_yll_lamb93 : {}'.format(ascii_table_north_bound_yll_lamb93))"
   ]
  },
  {
   "cell_type": "markdown",
   "metadata": {},
   "source": [
    "# Create ASCII table Bounding Box polygon in Lamb93"
   ]
  },
  {
   "cell_type": "code",
   "execution_count": 5,
   "metadata": {},
   "outputs": [
    {
     "name": "stdout",
     "output_type": "stream",
     "text": [
      "POLYGON ((824987.5 6525012.5, 849987.5 6525012.5, 849987.5 6500012.5, 824987.5 6500012.5, 824987.5 6525012.5))\n"
     ]
    }
   ],
   "source": [
    "ascii_table_nw_bound_coord_lamb93 = (ascii_table_west_bound_xll_lamb93, ascii_table_north_bound_yll_lamb93)\n",
    "ascii_table_ne_bound_coord_lamb93 = (ascii_table_east_bound_xll_lamb93, ascii_table_north_bound_yll_lamb93)\n",
    "ascii_table_se_bound_coord_lamb93 = (ascii_table_east_bound_xll_lamb93, ascii_table_south_bound_yll_lamb93)\n",
    "ascii_table_sw_bound_coord_lamb93 = (ascii_table_west_bound_xll_lamb93, ascii_table_south_bound_yll_lamb93)\n",
    "\n",
    "from shapely.geometry import Polygon\n",
    "\n",
    "ascii_table_bb_polygon_lamb93 = Polygon([\n",
    "                                    ascii_table_nw_bound_coord_lamb93,\n",
    "                                    ascii_table_ne_bound_coord_lamb93,\n",
    "                                    ascii_table_se_bound_coord_lamb93,\n",
    "                                    ascii_table_sw_bound_coord_lamb93\n",
    "                                ])\n",
    "print(ascii_table_bb_polygon_lamb93)"
   ]
  },
  {
   "cell_type": "markdown",
   "metadata": {},
   "source": [
    "# Display a Polygon on world map"
   ]
  },
  {
   "cell_type": "code",
   "execution_count": 56,
   "metadata": {},
   "outputs": [
    {
     "data": {
      "text/html": [
       "<div style=\"width:100%;\"><div style=\"position:relative;width:100%;height:0;padding-bottom:60%;\"><span style=\"color:#565656\">Make this Notebook Trusted to load map: File -> Trust Notebook</span><iframe src=\"about:blank\" style=\"position:absolute;width:100%;height:100%;left:0;top:0;border:none !important;\" data-html=%3C%21DOCTYPE%20html%3E%0A%3Chead%3E%20%20%20%20%0A%20%20%20%20%3Cmeta%20http-equiv%3D%22content-type%22%20content%3D%22text/html%3B%20charset%3DUTF-8%22%20/%3E%0A%20%20%20%20%0A%20%20%20%20%20%20%20%20%3Cscript%3E%0A%20%20%20%20%20%20%20%20%20%20%20%20L_NO_TOUCH%20%3D%20false%3B%0A%20%20%20%20%20%20%20%20%20%20%20%20L_DISABLE_3D%20%3D%20false%3B%0A%20%20%20%20%20%20%20%20%3C/script%3E%0A%20%20%20%20%0A%20%20%20%20%3Cstyle%3Ehtml%2C%20body%20%7Bwidth%3A%20100%25%3Bheight%3A%20100%25%3Bmargin%3A%200%3Bpadding%3A%200%3B%7D%3C/style%3E%0A%20%20%20%20%3Cstyle%3E%23map%20%7Bposition%3Aabsolute%3Btop%3A0%3Bbottom%3A0%3Bright%3A0%3Bleft%3A0%3B%7D%3C/style%3E%0A%20%20%20%20%3Cscript%20src%3D%22https%3A//cdn.jsdelivr.net/npm/leaflet%401.6.0/dist/leaflet.js%22%3E%3C/script%3E%0A%20%20%20%20%3Cscript%20src%3D%22https%3A//code.jquery.com/jquery-1.12.4.min.js%22%3E%3C/script%3E%0A%20%20%20%20%3Cscript%20src%3D%22https%3A//maxcdn.bootstrapcdn.com/bootstrap/3.2.0/js/bootstrap.min.js%22%3E%3C/script%3E%0A%20%20%20%20%3Cscript%20src%3D%22https%3A//cdnjs.cloudflare.com/ajax/libs/Leaflet.awesome-markers/2.0.2/leaflet.awesome-markers.js%22%3E%3C/script%3E%0A%20%20%20%20%3Clink%20rel%3D%22stylesheet%22%20href%3D%22https%3A//cdn.jsdelivr.net/npm/leaflet%401.6.0/dist/leaflet.css%22/%3E%0A%20%20%20%20%3Clink%20rel%3D%22stylesheet%22%20href%3D%22https%3A//maxcdn.bootstrapcdn.com/bootstrap/3.2.0/css/bootstrap.min.css%22/%3E%0A%20%20%20%20%3Clink%20rel%3D%22stylesheet%22%20href%3D%22https%3A//maxcdn.bootstrapcdn.com/bootstrap/3.2.0/css/bootstrap-theme.min.css%22/%3E%0A%20%20%20%20%3Clink%20rel%3D%22stylesheet%22%20href%3D%22https%3A//maxcdn.bootstrapcdn.com/font-awesome/4.6.3/css/font-awesome.min.css%22/%3E%0A%20%20%20%20%3Clink%20rel%3D%22stylesheet%22%20href%3D%22https%3A//cdnjs.cloudflare.com/ajax/libs/Leaflet.awesome-markers/2.0.2/leaflet.awesome-markers.css%22/%3E%0A%20%20%20%20%3Clink%20rel%3D%22stylesheet%22%20href%3D%22https%3A//cdn.jsdelivr.net/gh/python-visualization/folium/folium/templates/leaflet.awesome.rotate.min.css%22/%3E%0A%20%20%20%20%0A%20%20%20%20%20%20%20%20%20%20%20%20%3Cmeta%20name%3D%22viewport%22%20content%3D%22width%3Ddevice-width%2C%0A%20%20%20%20%20%20%20%20%20%20%20%20%20%20%20%20initial-scale%3D1.0%2C%20maximum-scale%3D1.0%2C%20user-scalable%3Dno%22%20/%3E%0A%20%20%20%20%20%20%20%20%20%20%20%20%3Cstyle%3E%0A%20%20%20%20%20%20%20%20%20%20%20%20%20%20%20%20%23map_dee47817997a4a95b1959beab7eebf05%20%7B%0A%20%20%20%20%20%20%20%20%20%20%20%20%20%20%20%20%20%20%20%20position%3A%20relative%3B%0A%20%20%20%20%20%20%20%20%20%20%20%20%20%20%20%20%20%20%20%20width%3A%20100.0%25%3B%0A%20%20%20%20%20%20%20%20%20%20%20%20%20%20%20%20%20%20%20%20height%3A%20100.0%25%3B%0A%20%20%20%20%20%20%20%20%20%20%20%20%20%20%20%20%20%20%20%20left%3A%200.0%25%3B%0A%20%20%20%20%20%20%20%20%20%20%20%20%20%20%20%20%20%20%20%20top%3A%200.0%25%3B%0A%20%20%20%20%20%20%20%20%20%20%20%20%20%20%20%20%7D%0A%20%20%20%20%20%20%20%20%20%20%20%20%3C/style%3E%0A%20%20%20%20%20%20%20%20%0A%3C/head%3E%0A%3Cbody%3E%20%20%20%20%0A%20%20%20%20%0A%20%20%20%20%20%20%20%20%20%20%20%20%3Cdiv%20class%3D%22folium-map%22%20id%3D%22map_dee47817997a4a95b1959beab7eebf05%22%20%3E%3C/div%3E%0A%20%20%20%20%20%20%20%20%0A%3C/body%3E%0A%3Cscript%3E%20%20%20%20%0A%20%20%20%20%0A%20%20%20%20%20%20%20%20%20%20%20%20var%20map_dee47817997a4a95b1959beab7eebf05%20%3D%20L.map%28%0A%20%20%20%20%20%20%20%20%20%20%20%20%20%20%20%20%22map_dee47817997a4a95b1959beab7eebf05%22%2C%0A%20%20%20%20%20%20%20%20%20%20%20%20%20%20%20%20%7B%0A%20%20%20%20%20%20%20%20%20%20%20%20%20%20%20%20%20%20%20%20center%3A%20%5B45.6%2C%204.9%5D%2C%0A%20%20%20%20%20%20%20%20%20%20%20%20%20%20%20%20%20%20%20%20crs%3A%20L.CRS.EPSG3857%2C%0A%20%20%20%20%20%20%20%20%20%20%20%20%20%20%20%20%20%20%20%20zoom%3A%2010%2C%0A%20%20%20%20%20%20%20%20%20%20%20%20%20%20%20%20%20%20%20%20zoomControl%3A%20true%2C%0A%20%20%20%20%20%20%20%20%20%20%20%20%20%20%20%20%20%20%20%20preferCanvas%3A%20false%2C%0A%20%20%20%20%20%20%20%20%20%20%20%20%20%20%20%20%7D%0A%20%20%20%20%20%20%20%20%20%20%20%20%29%3B%0A%0A%20%20%20%20%20%20%20%20%20%20%20%20%0A%0A%20%20%20%20%20%20%20%20%0A%20%20%20%20%0A%20%20%20%20%20%20%20%20%20%20%20%20var%20tile_layer_fd1caf590fda450387053bcc81626f53%20%3D%20L.tileLayer%28%0A%20%20%20%20%20%20%20%20%20%20%20%20%20%20%20%20%22https%3A//cartodb-basemaps-%7Bs%7D.global.ssl.fastly.net/light_all/%7Bz%7D/%7Bx%7D/%7By%7D.png%22%2C%0A%20%20%20%20%20%20%20%20%20%20%20%20%20%20%20%20%7B%22attribution%22%3A%20%22%5Cu0026copy%3B%20%5Cu003ca%20href%3D%5C%22http%3A//www.openstreetmap.org/copyright%5C%22%5Cu003eOpenStreetMap%5Cu003c/a%5Cu003e%20contributors%20%5Cu0026copy%3B%20%5Cu003ca%20href%3D%5C%22http%3A//cartodb.com/attributions%5C%22%5Cu003eCartoDB%5Cu003c/a%5Cu003e%2C%20CartoDB%20%5Cu003ca%20href%20%3D%5C%22http%3A//cartodb.com/attributions%5C%22%5Cu003eattributions%5Cu003c/a%5Cu003e%22%2C%20%22detectRetina%22%3A%20false%2C%20%22maxNativeZoom%22%3A%2018%2C%20%22maxZoom%22%3A%2018%2C%20%22minZoom%22%3A%200%2C%20%22noWrap%22%3A%20false%2C%20%22opacity%22%3A%201%2C%20%22subdomains%22%3A%20%22abc%22%2C%20%22tms%22%3A%20false%7D%0A%20%20%20%20%20%20%20%20%20%20%20%20%29.addTo%28map_dee47817997a4a95b1959beab7eebf05%29%3B%0A%20%20%20%20%20%20%20%20%0A%20%20%20%20%0A%0A%20%20%20%20%20%20%20%20function%20geo_json_f6c72f91626542e899d204a7499b6130_onEachFeature%28feature%2C%20layer%29%20%7B%0A%20%20%20%20%20%20%20%20%20%20%20%20layer.on%28%7B%0A%20%20%20%20%20%20%20%20%20%20%20%20%7D%29%3B%0A%20%20%20%20%20%20%20%20%7D%3B%0A%20%20%20%20%20%20%20%20var%20geo_json_f6c72f91626542e899d204a7499b6130%20%3D%20L.geoJson%28null%2C%20%7B%0A%20%20%20%20%20%20%20%20%20%20%20%20%20%20%20%20onEachFeature%3A%20geo_json_f6c72f91626542e899d204a7499b6130_onEachFeature%2C%0A%20%20%20%20%20%20%20%20%20%20%20%20%0A%20%20%20%20%20%20%20%20%7D%29%3B%0A%0A%20%20%20%20%20%20%20%20function%20geo_json_f6c72f91626542e899d204a7499b6130_add%20%28data%29%20%7B%0A%20%20%20%20%20%20%20%20%20%20%20%20geo_json_f6c72f91626542e899d204a7499b6130%0A%20%20%20%20%20%20%20%20%20%20%20%20%20%20%20%20.addData%28data%29%0A%20%20%20%20%20%20%20%20%20%20%20%20%20%20%20%20.addTo%28map_dee47817997a4a95b1959beab7eebf05%29%3B%0A%20%20%20%20%20%20%20%20%7D%0A%20%20%20%20%20%20%20%20%20%20%20%20geo_json_f6c72f91626542e899d204a7499b6130_add%28%7B%22coordinates%22%3A%20%5B%5B%5B4.609623049975772%2C%2045.81328010871762%5D%2C%20%5B4.93146214529326%2C%2045.80823268954793%5D%2C%20%5B4.923620924917525%2C%2045.58317868102619%5D%2C%20%5B4.603087618767242%2C%2045.58820553013228%5D%2C%20%5B4.609623049975772%2C%2045.81328010871762%5D%5D%5D%2C%20%22type%22%3A%20%22Polygon%22%7D%29%3B%0A%0A%20%20%20%20%20%20%20%20%0A%20%20%20%20%0A%20%20%20%20%20%20%20%20%20%20%20%20var%20layer_control_fe2b82677a6740148c9660a33eb7624f%20%3D%20%7B%0A%20%20%20%20%20%20%20%20%20%20%20%20%20%20%20%20base_layers%20%3A%20%7B%0A%20%20%20%20%20%20%20%20%20%20%20%20%20%20%20%20%20%20%20%20%22cartodbpositron%22%20%3A%20tile_layer_fd1caf590fda450387053bcc81626f53%2C%0A%20%20%20%20%20%20%20%20%20%20%20%20%20%20%20%20%7D%2C%0A%20%20%20%20%20%20%20%20%20%20%20%20%20%20%20%20overlays%20%3A%20%20%7B%0A%20%20%20%20%20%20%20%20%20%20%20%20%20%20%20%20%20%20%20%20%22Bonding%20Box%22%20%3A%20geo_json_f6c72f91626542e899d204a7499b6130%2C%0A%20%20%20%20%20%20%20%20%20%20%20%20%20%20%20%20%7D%2C%0A%20%20%20%20%20%20%20%20%20%20%20%20%7D%3B%0A%20%20%20%20%20%20%20%20%20%20%20%20L.control.layers%28%0A%20%20%20%20%20%20%20%20%20%20%20%20%20%20%20%20layer_control_fe2b82677a6740148c9660a33eb7624f.base_layers%2C%0A%20%20%20%20%20%20%20%20%20%20%20%20%20%20%20%20layer_control_fe2b82677a6740148c9660a33eb7624f.overlays%2C%0A%20%20%20%20%20%20%20%20%20%20%20%20%20%20%20%20%7B%22autoZIndex%22%3A%20true%2C%20%22collapsed%22%3A%20true%2C%20%22position%22%3A%20%22topright%22%7D%0A%20%20%20%20%20%20%20%20%20%20%20%20%29.addTo%28map_dee47817997a4a95b1959beab7eebf05%29%3B%0A%20%20%20%20%20%20%20%20%0A%3C/script%3E onload=\"this.contentDocument.open();this.contentDocument.write(    decodeURIComponent(this.getAttribute('data-html')));this.contentDocument.close();\" allowfullscreen webkitallowfullscreen mozallowfullscreen></iframe></div></div>"
      ],
      "text/plain": [
       "<folium.folium.Map at 0x7f07e52e1760>"
      ]
     },
     "execution_count": 56,
     "metadata": {},
     "output_type": "execute_result"
    }
   ],
   "source": [
    "import geopandas as gpd\n",
    "from pyproj import CRS, Transformer\n",
    "import folium\n",
    "import json\n",
    "import shapely\n",
    "\n",
    "#'epsg:2154' #LAMB93\n",
    "#'epsg:4326' #WGS84\n",
    "\n",
    "crs_4326 = CRS.from_user_input(4326)\n",
    "crs_init = CRS.from_user_input(2154)\n",
    "\n",
    "transformer = Transformer.from_crs(crs_init,crs_4326, always_xy=True)\n",
    "\n",
    "ascii_table_nw_bound_coord_wgs84 = transformer.transform(ascii_table_west_bound_xll_lamb93,ascii_table_north_bound_yll_lamb93)\n",
    "ascii_table_ne_bound_coord_wgs84 = transformer.transform(ascii_table_east_bound_xll_lamb93,ascii_table_north_bound_yll_lamb93)\n",
    "ascii_table_se_bound_coord_wgs84 = transformer.transform(ascii_table_east_bound_xll_lamb93,ascii_table_south_bound_yll_lamb93)\n",
    "ascii_table_sw_bound_coord_wgs84 = transformer.transform(ascii_table_west_bound_xll_lamb93,ascii_table_south_bound_yll_lamb93)\n",
    "\n",
    "\n",
    "ascii_table_bb_polygon_wgs84 = Polygon([\n",
    "                                    ascii_table_nw_bound_coord_wgs84,\n",
    "                                    ascii_table_ne_bound_coord_wgs84,\n",
    "                                    ascii_table_se_bound_coord_wgs84,\n",
    "                                    ascii_table_sw_bound_coord_wgs84\n",
    "                                ])\n",
    "\n",
    "rectangle = json.dumps(shapely.geometry.mapping(ascii_table_bb_polygon_wgs84),indent=4)\n",
    "\n",
    "m = folium.Map(\n",
    "    location=[45.6, 4.9],\n",
    "    tiles=\"cartodbpositron\",\n",
    "    zoom_start=10,\n",
    ")\n",
    "\n",
    "folium.GeoJson(rectangle, name=\"Bonding Box\").add_to(m)\n",
    "\n",
    "# Add the possibility to the user to display the layers or not (The layers are displayed by default.)\n",
    "folium.LayerControl().add_to(m)\n",
    "\n",
    "m"
   ]
  },
  {
   "cell_type": "markdown",
   "metadata": {},
   "source": [
    "# Load the shapefile"
   ]
  },
  {
   "cell_type": "code",
   "execution_count": 40,
   "metadata": {},
   "outputs": [
    {
     "name": "stdout",
     "output_type": "stream",
     "text": [
      "POLYGON ((907748 6520508.1, 907742.9 6520504.1, 907739.3 6520505.7, 907737.6 6520510.6, 907739 6520516, 907742.8 6520518.3, 907748.2 6520515, 907748 6520508.1))\n"
     ]
    }
   ],
   "source": [
    "# Conversion of a pair of files (.shp + .shx) into a list of POLYGON included into the ASCII table Bounding Box\n",
    "import geopandas as gpd\n",
    "\n",
    "gdf = gpd.read_file(\n",
    "    shapefile_path,\n",
    "    bbox=ascii_table_bb_coord_lamb93,\n",
    ")\n",
    "\n",
    "shapefile_polygones_wgs84 = gdf['geometry']\n",
    "print(shapefile_polygones_wgs84[0])\n",
    "# TODO : visualize these data with follium"
   ]
  },
  {
   "cell_type": "markdown",
   "metadata": {},
   "source": [
    "# (Not useful anymore)\n",
    "Convert shapefile polygons coordinates from WGS84 to Lamb93"
   ]
  },
  {
   "cell_type": "code",
   "execution_count": 41,
   "metadata": {},
   "outputs": [
    {
     "name": "stdout",
     "output_type": "stream",
     "text": [
      "ascii_table_nw_bound_coord_wgs84 : (inf, inf)\n",
      "ascii_table_ne_bound_coord_wgs84 : (inf, inf)\n",
      "ascii_table_se_bound_coord_wgs84 : (inf, inf)\n",
      "ascii_table_sw_bound_coord_wgs84 : (inf, inf)\n"
     ]
    }
   ],
   "source": [
    "# from pyproj import Transformer\n",
    "# lamb93_epsg_code = \"2154\" # The Lamb93 coordinates system -> https://epsg.io/2154\n",
    "# wgs84_epsg_code = \"4326\" # The WGS84 coordinates system -> https://epsg.io/4326\n",
    "# transformer = Transformer.from_crs(\"epsg:\"+wgs84_epsg_code, \"epsg:\"+lamb93_epsg_code)\n",
    "\n",
    "# for shapefile_polygon_wgs84 in shapefile_polygones_wgs84:\n",
    "#     ascii_table_nw_bound_coord_wgs84 = transformer.transform(\n",
    "#                                                                 ascii_table_nw_bound_coord_lamb93[0],\n",
    "#                                                                 ascii_table_nw_bound_coord_lamb93[1]\n",
    "#                                                             )\n",
    "#     ascii_table_ne_bound_coord_wgs84 = transformer.transform(\n",
    "#                                                                 ascii_table_ne_bound_coord_lamb93[0],\n",
    "#                                                                 ascii_table_ne_bound_coord_lamb93[1]\n",
    "#                                                             )\n",
    "#     ascii_table_se_bound_coord_wgs84 = transformer.transform(\n",
    "#                                                                 ascii_table_se_bound_coord_lamb93[0],\n",
    "#                                                                 ascii_table_se_bound_coord_lamb93[1]\n",
    "#                                                             )\n",
    "#     ascii_table_sw_bound_coord_wgs84 = transformer.transform(\n",
    "#                                                                 ascii_table_sw_bound_coord_lamb93[0],\n",
    "#                                                                 ascii_table_sw_bound_coord_lamb93[1]\n",
    "#                                                             )\n",
    "\n",
    "# print('ascii_table_nw_bound_coord_wgs84 : {}'.format(ascii_table_nw_bound_coord_wgs84))\n",
    "# print('ascii_table_ne_bound_coord_wgs84 : {}'.format(ascii_table_ne_bound_coord_wgs84))\n",
    "# print('ascii_table_se_bound_coord_wgs84 : {}'.format(ascii_table_se_bound_coord_wgs84))\n",
    "# print('ascii_table_sw_bound_coord_wgs84 : {}'.format(ascii_table_sw_bound_coord_wgs84))\n",
    "\n",
    "# # TODO : visualize these data with follium"
   ]
  },
  {
   "cell_type": "markdown",
   "metadata": {},
   "source": [
    "# (Not useful anymore)\n",
    "Project the Polygons extracted from the shapefile onto the 2D ASCII table (William)"
   ]
  },
  {
   "cell_type": "code",
   "execution_count": 9,
   "metadata": {},
   "outputs": [
    {
     "ename": "TypeError",
     "evalue": "'Polygon' object is not iterable",
     "output_type": "error",
     "traceback": [
      "\u001b[0;31m---------------------------------------------------------------------------\u001b[0m",
      "\u001b[0;31mTypeError\u001b[0m                                 Traceback (most recent call last)",
      "Input \u001b[0;32mIn [9]\u001b[0m, in \u001b[0;36m<module>\u001b[0;34m\u001b[0m\n\u001b[1;32m      1\u001b[0m \u001b[38;5;66;03m# from shapely.geometry import Polygon\u001b[39;00m\n\u001b[1;32m      3\u001b[0m projected_polygons \u001b[38;5;241m=\u001b[39m []\n\u001b[0;32m----> 4\u001b[0m \u001b[38;5;28;01mfor\u001b[39;00m shapefile_polygon_wgs84 \u001b[38;5;129;01min\u001b[39;00m ascii_table_bb_polygon_lamb93:\n\u001b[1;32m      5\u001b[0m     projected_polygon \u001b[38;5;241m=\u001b[39m ascii_table_bb_polygon_lamb93\u001b[38;5;241m.\u001b[39mintersection(shapefile_polygon_wgs84)\n\u001b[1;32m      6\u001b[0m     \u001b[38;5;28;01mif\u001b[39;00m projected_polygon\u001b[38;5;241m.\u001b[39m\u001b[38;5;21m__str__\u001b[39m() \u001b[38;5;241m!=\u001b[39m \u001b[38;5;124m'\u001b[39m\u001b[38;5;124mPOLYGON EMPTY\u001b[39m\u001b[38;5;124m'\u001b[39m:\n",
      "\u001b[0;31mTypeError\u001b[0m: 'Polygon' object is not iterable"
     ]
    }
   ],
   "source": [
    "# from shapely.geometry import Polygon\n",
    "\n",
    "# projected_polygons = []\n",
    "# for shapefile_polygon_wgs84 in shapefile_polygones_wgs84:\n",
    "#     projected_polygon = ascii_table_bb_polygon_wgs84.intersection(shapefile_polygon_wgs84)\n",
    "#     if projected_polygon.__str__() != 'POLYGON EMPTY':\n",
    "#         print(projected_polygon)\n",
    "#         projected_polygons.append(projected_polygon)"
   ]
  },
  {
   "cell_type": "markdown",
   "metadata": {},
   "source": [
    "# Convert the polygons into 2D ASCII Tables (Bertrand)"
   ]
  },
  {
   "cell_type": "code",
   "execution_count": null,
   "metadata": {},
   "outputs": [],
   "source": []
  },
  {
   "cell_type": "markdown",
   "metadata": {},
   "source": [
    "# Merge all the tiles information into a single data structure (Jérémy)"
   ]
  },
  {
   "cell_type": "code",
   "execution_count": null,
   "metadata": {},
   "outputs": [],
   "source": [
    "merge_all = []\n",
    "Dalle1 = {}\n",
    "Dalle1['alti']=ascii_table\n",
    "Dalle1['milieu1']=[]\n",
    "Dalle1['milieu2']=[]\n",
    "\n",
    "merge_all.append(Dalle1)"
   ]
  },
  {
   "cell_type": "markdown",
   "metadata": {},
   "source": [
    "# (Optionnal) Get shapefile BoundingBox coordinates\n",
    "WGS84 coordinates system (lat, long)"
   ]
  },
  {
   "cell_type": "code",
   "execution_count": 36,
   "metadata": {},
   "outputs": [
    {
     "name": "stdout",
     "output_type": "stream",
     "text": [
      "west_bound_longitude_decimal_value : 2.0629\n",
      "east_bound_longitude_decimal_value : 7.1856\n",
      "south_bound_latitude_decimal_value : 44.1155\n",
      "north_bound_latitude_decimal_value : 46.8043\n"
     ]
    }
   ],
   "source": [
    "# xml_path = gmd:MD_Metadata/gmd:identificationInfo/gmd:MD_DataIdentification/gmd:extent/gmd:EX_Extent/gmd:geographicElement/gmd:EX_GeographicBoundingBox\n",
    "import xml.etree.ElementTree as ET\n",
    "metadata_file_name = 'metadonnees.xml'\n",
    "tree = ET.parse(shapefile_dir_path + metadata_file_name)\n",
    "root = tree.getroot()\n",
    "\n",
    "namespaces = {\n",
    "                'gmd': '{http://www.isotc211.org/2005/gmd}',\n",
    "                'gco': '{http://www.isotc211.org/2005/gco}'\n",
    "            } # add more as needed\n",
    "\n",
    "EX_GeographicBoundingBox_element = list(root.iter(namespaces['gmd']+'EX_GeographicBoundingBox'))[0]\n",
    "\n",
    "west_bound_longitude_element = list(EX_GeographicBoundingBox_element.iter(namespaces['gmd']+'westBoundLongitude'))[0]\n",
    "west_bound_longitude_decimal_element = list(west_bound_longitude_element.iter(namespaces['gco']+'Decimal'))[0]\n",
    "west_bound_longitude_decimal_value = list(west_bound_longitude_decimal_element.itertext())[0]\n",
    "print('west_bound_longitude_decimal_value : {}'.format(west_bound_longitude_decimal_value))\n",
    "\n",
    "east_bound_longitude_element = list(EX_GeographicBoundingBox_element.iter(namespaces['gmd']+'eastBoundLongitude'))[0]\n",
    "east_bound_longitude_decimal_element = list(east_bound_longitude_element.iter(namespaces['gco']+'Decimal'))[0]\n",
    "east_bound_longitude_decimal_value = list(east_bound_longitude_decimal_element.itertext())[0]\n",
    "print('east_bound_longitude_decimal_value : {}'.format(east_bound_longitude_decimal_value))\n",
    "\n",
    "south_bound_latitude_element = list(EX_GeographicBoundingBox_element.iter(namespaces['gmd']+'southBoundLatitude'))[0]\n",
    "south_bound_latitude_decimal_element = list(south_bound_latitude_element.iter(namespaces['gco']+'Decimal'))[0]\n",
    "south_bound_latitude_decimal_value = list(south_bound_latitude_decimal_element.itertext())[0]\n",
    "print('south_bound_latitude_decimal_value : {}'.format(south_bound_latitude_decimal_value))\n",
    "\n",
    "north_bound_latitude_element = list(EX_GeographicBoundingBox_element.iter(namespaces['gmd']+'northBoundLatitude'))[0]\n",
    "north_bound_latitude_decimal_element = list(north_bound_latitude_element.iter(namespaces['gco']+'Decimal'))[0]\n",
    "north_bound_latitude_decimal_value = list(north_bound_latitude_decimal_element.itertext())[0]\n",
    "print('north_bound_latitude_decimal_value : {}'.format(north_bound_latitude_decimal_value))"
   ]
  }
 ],
 "metadata": {
  "interpreter": {
   "hash": "0727fce04a152e472e8079dbd947cfba806f7bfd684be5ca6c2326bf4c57dfdb"
  },
  "kernelspec": {
   "display_name": "Python 3.8.10 64-bit ('.venv': venv)",
   "language": "python",
   "name": "python3"
  },
  "language_info": {
   "codemirror_mode": {
    "name": "ipython",
    "version": 3
   },
   "file_extension": ".py",
   "mimetype": "text/x-python",
   "name": "python",
   "nbconvert_exporter": "python",
   "pygments_lexer": "ipython3",
   "version": "3.8.10"
  },
  "orig_nbformat": 4
 },
 "nbformat": 4,
 "nbformat_minor": 2
}
