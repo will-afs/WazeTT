{
 "cells": [
  {
   "cell_type": "markdown",
   "metadata": {},
   "source": [
    "# Notebook configuration"
   ]
  },
  {
   "cell_type": "code",
   "execution_count": 68,
   "metadata": {},
   "outputs": [],
   "source": [
    "# Configuration\n",
    "shapefile_dir_path = '/home/bertrand/Documents/Projet Indus/WazeTT/data/input/bd_topo/'\n",
    "shapefile_name = 'ZONE_VEGETATION.shp'\n",
    "shapefile_path = shapefile_dir_path + shapefile_name\n",
    "\n",
    "tiles_dir_path = '../data/input/bd_alti/'\n",
    "tiles_name = 'dalles.shp'\n",
    "tiles_path = tiles_dir_path + tiles_name\n",
    "\n",
    "ascii_file_dir_path = '../data/input/bd_alti/'\n",
    "ascii_file_name = 'BDALTIV2_25M_FXX_0825_6550_MNT_LAMB93_IGN69.asc'\n",
    "ascii_file_path = ascii_file_dir_path + ascii_file_name"
   ]
  },
  {
   "cell_type": "markdown",
   "metadata": {},
   "source": [
    "# Load the altitudes ascii file into an AltiData object"
   ]
  },
  {
   "cell_type": "code",
   "execution_count": 69,
   "metadata": {},
   "outputs": [],
   "source": [
    "from alti_data import AltiData\n",
    "alti_data = AltiData(ascii_file_path)"
   ]
  },
  {
   "cell_type": "markdown",
   "metadata": {},
   "source": [
    "# Deduce its Bounding Box coordinates in Lamb93 (xll, yll)"
   ]
  },
  {
   "cell_type": "code",
   "execution_count": 70,
   "metadata": {},
   "outputs": [
    {
     "name": "stdout",
     "output_type": "stream",
     "text": [
      "{'xmin': 824987.5, 'xmax': 849987.5, 'ymin': 6500012.5, 'ymax': 6525012.5}\n",
      "{'nw': (824987.5, 6525012.5), 'ne': (849987.5, 6525012.5), 'se': (849987.5, 6500012.5), 'sw': (824987.5, 6500012.5)}\n"
     ]
    }
   ],
   "source": [
    "alti_data_extreme_bb_coordinates_lamb93 = alti_data.calc_bb_extreme_coordinates(format='lamb93')\n",
    "print(alti_data_extreme_bb_coordinates_lamb93)\n",
    "\n",
    "alti_data_bb_angle_coordinates_lamb93 = alti_data.calc_bb_angle_coordinates(format='lamb93')\n",
    "print(alti_data_bb_angle_coordinates_lamb93)"
   ]
  },
  {
   "cell_type": "markdown",
   "metadata": {},
   "source": [
    "# Create ASCII table Bounding Box polygon in Lamb93"
   ]
  },
  {
   "cell_type": "code",
   "execution_count": 71,
   "metadata": {},
   "outputs": [
    {
     "name": "stdout",
     "output_type": "stream",
     "text": [
      "POLYGON ((824987.5 6525012.5, 849987.5 6525012.5, 849987.5 6500012.5, 824987.5 6500012.5, 824987.5 6525012.5))\n"
     ]
    }
   ],
   "source": [
    "ascii_table_bb_polygon_lamb93 = alti_data.calc_bb_polygon(format='lamb93')\n",
    "print(ascii_table_bb_polygon_lamb93)"
   ]
  },
  {
   "cell_type": "markdown",
   "metadata": {},
   "source": [
    "# Display a Polygon on world map"
   ]
  },
  {
   "cell_type": "code",
   "execution_count": 72,
   "metadata": {},
   "outputs": [],
   "source": [
    "import geopandas as gpd\n",
    "from pyproj import CRS, Transformer\n",
    "import folium\n",
    "import json\n",
    "import shapely"
   ]
  },
  {
   "cell_type": "code",
   "execution_count": 73,
   "metadata": {},
   "outputs": [
    {
     "data": {
      "text/html": [
       "<div style=\"width:100%;\"><div style=\"position:relative;width:100%;height:0;padding-bottom:60%;\"><span style=\"color:#565656\">Make this Notebook Trusted to load map: File -> Trust Notebook</span><iframe src=\"about:blank\" style=\"position:absolute;width:100%;height:100%;left:0;top:0;border:none !important;\" data-html=%3C%21DOCTYPE%20html%3E%0A%3Chead%3E%20%20%20%20%0A%20%20%20%20%3Cmeta%20http-equiv%3D%22content-type%22%20content%3D%22text/html%3B%20charset%3DUTF-8%22%20/%3E%0A%20%20%20%20%0A%20%20%20%20%20%20%20%20%3Cscript%3E%0A%20%20%20%20%20%20%20%20%20%20%20%20L_NO_TOUCH%20%3D%20false%3B%0A%20%20%20%20%20%20%20%20%20%20%20%20L_DISABLE_3D%20%3D%20false%3B%0A%20%20%20%20%20%20%20%20%3C/script%3E%0A%20%20%20%20%0A%20%20%20%20%3Cstyle%3Ehtml%2C%20body%20%7Bwidth%3A%20100%25%3Bheight%3A%20100%25%3Bmargin%3A%200%3Bpadding%3A%200%3B%7D%3C/style%3E%0A%20%20%20%20%3Cstyle%3E%23map%20%7Bposition%3Aabsolute%3Btop%3A0%3Bbottom%3A0%3Bright%3A0%3Bleft%3A0%3B%7D%3C/style%3E%0A%20%20%20%20%3Cscript%20src%3D%22https%3A//cdn.jsdelivr.net/npm/leaflet%401.6.0/dist/leaflet.js%22%3E%3C/script%3E%0A%20%20%20%20%3Cscript%20src%3D%22https%3A//code.jquery.com/jquery-1.12.4.min.js%22%3E%3C/script%3E%0A%20%20%20%20%3Cscript%20src%3D%22https%3A//maxcdn.bootstrapcdn.com/bootstrap/3.2.0/js/bootstrap.min.js%22%3E%3C/script%3E%0A%20%20%20%20%3Cscript%20src%3D%22https%3A//cdnjs.cloudflare.com/ajax/libs/Leaflet.awesome-markers/2.0.2/leaflet.awesome-markers.js%22%3E%3C/script%3E%0A%20%20%20%20%3Clink%20rel%3D%22stylesheet%22%20href%3D%22https%3A//cdn.jsdelivr.net/npm/leaflet%401.6.0/dist/leaflet.css%22/%3E%0A%20%20%20%20%3Clink%20rel%3D%22stylesheet%22%20href%3D%22https%3A//maxcdn.bootstrapcdn.com/bootstrap/3.2.0/css/bootstrap.min.css%22/%3E%0A%20%20%20%20%3Clink%20rel%3D%22stylesheet%22%20href%3D%22https%3A//maxcdn.bootstrapcdn.com/bootstrap/3.2.0/css/bootstrap-theme.min.css%22/%3E%0A%20%20%20%20%3Clink%20rel%3D%22stylesheet%22%20href%3D%22https%3A//maxcdn.bootstrapcdn.com/font-awesome/4.6.3/css/font-awesome.min.css%22/%3E%0A%20%20%20%20%3Clink%20rel%3D%22stylesheet%22%20href%3D%22https%3A//cdnjs.cloudflare.com/ajax/libs/Leaflet.awesome-markers/2.0.2/leaflet.awesome-markers.css%22/%3E%0A%20%20%20%20%3Clink%20rel%3D%22stylesheet%22%20href%3D%22https%3A//cdn.jsdelivr.net/gh/python-visualization/folium/folium/templates/leaflet.awesome.rotate.min.css%22/%3E%0A%20%20%20%20%0A%20%20%20%20%20%20%20%20%20%20%20%20%3Cmeta%20name%3D%22viewport%22%20content%3D%22width%3Ddevice-width%2C%0A%20%20%20%20%20%20%20%20%20%20%20%20%20%20%20%20initial-scale%3D1.0%2C%20maximum-scale%3D1.0%2C%20user-scalable%3Dno%22%20/%3E%0A%20%20%20%20%20%20%20%20%20%20%20%20%3Cstyle%3E%0A%20%20%20%20%20%20%20%20%20%20%20%20%20%20%20%20%23map_b975ebea641445c99a3c041a42d62887%20%7B%0A%20%20%20%20%20%20%20%20%20%20%20%20%20%20%20%20%20%20%20%20position%3A%20relative%3B%0A%20%20%20%20%20%20%20%20%20%20%20%20%20%20%20%20%20%20%20%20width%3A%20100.0%25%3B%0A%20%20%20%20%20%20%20%20%20%20%20%20%20%20%20%20%20%20%20%20height%3A%20100.0%25%3B%0A%20%20%20%20%20%20%20%20%20%20%20%20%20%20%20%20%20%20%20%20left%3A%200.0%25%3B%0A%20%20%20%20%20%20%20%20%20%20%20%20%20%20%20%20%20%20%20%20top%3A%200.0%25%3B%0A%20%20%20%20%20%20%20%20%20%20%20%20%20%20%20%20%7D%0A%20%20%20%20%20%20%20%20%20%20%20%20%3C/style%3E%0A%20%20%20%20%20%20%20%20%0A%3C/head%3E%0A%3Cbody%3E%20%20%20%20%0A%20%20%20%20%0A%20%20%20%20%20%20%20%20%20%20%20%20%3Cdiv%20class%3D%22folium-map%22%20id%3D%22map_b975ebea641445c99a3c041a42d62887%22%20%3E%3C/div%3E%0A%20%20%20%20%20%20%20%20%0A%3C/body%3E%0A%3Cscript%3E%20%20%20%20%0A%20%20%20%20%0A%20%20%20%20%20%20%20%20%20%20%20%20var%20map_b975ebea641445c99a3c041a42d62887%20%3D%20L.map%28%0A%20%20%20%20%20%20%20%20%20%20%20%20%20%20%20%20%22map_b975ebea641445c99a3c041a42d62887%22%2C%0A%20%20%20%20%20%20%20%20%20%20%20%20%20%20%20%20%7B%0A%20%20%20%20%20%20%20%20%20%20%20%20%20%20%20%20%20%20%20%20center%3A%20%5B45.6%2C%204.9%5D%2C%0A%20%20%20%20%20%20%20%20%20%20%20%20%20%20%20%20%20%20%20%20crs%3A%20L.CRS.EPSG3857%2C%0A%20%20%20%20%20%20%20%20%20%20%20%20%20%20%20%20%20%20%20%20zoom%3A%2010%2C%0A%20%20%20%20%20%20%20%20%20%20%20%20%20%20%20%20%20%20%20%20zoomControl%3A%20true%2C%0A%20%20%20%20%20%20%20%20%20%20%20%20%20%20%20%20%20%20%20%20preferCanvas%3A%20false%2C%0A%20%20%20%20%20%20%20%20%20%20%20%20%20%20%20%20%7D%0A%20%20%20%20%20%20%20%20%20%20%20%20%29%3B%0A%0A%20%20%20%20%20%20%20%20%20%20%20%20%0A%0A%20%20%20%20%20%20%20%20%0A%20%20%20%20%0A%20%20%20%20%20%20%20%20%20%20%20%20var%20tile_layer_649c988c18094c5b86e9e5a01599f7d9%20%3D%20L.tileLayer%28%0A%20%20%20%20%20%20%20%20%20%20%20%20%20%20%20%20%22https%3A//cartodb-basemaps-%7Bs%7D.global.ssl.fastly.net/light_all/%7Bz%7D/%7Bx%7D/%7By%7D.png%22%2C%0A%20%20%20%20%20%20%20%20%20%20%20%20%20%20%20%20%7B%22attribution%22%3A%20%22%5Cu0026copy%3B%20%5Cu003ca%20href%3D%5C%22http%3A//www.openstreetmap.org/copyright%5C%22%5Cu003eOpenStreetMap%5Cu003c/a%5Cu003e%20contributors%20%5Cu0026copy%3B%20%5Cu003ca%20href%3D%5C%22http%3A//cartodb.com/attributions%5C%22%5Cu003eCartoDB%5Cu003c/a%5Cu003e%2C%20CartoDB%20%5Cu003ca%20href%20%3D%5C%22http%3A//cartodb.com/attributions%5C%22%5Cu003eattributions%5Cu003c/a%5Cu003e%22%2C%20%22detectRetina%22%3A%20false%2C%20%22maxNativeZoom%22%3A%2018%2C%20%22maxZoom%22%3A%2018%2C%20%22minZoom%22%3A%200%2C%20%22noWrap%22%3A%20false%2C%20%22opacity%22%3A%201%2C%20%22subdomains%22%3A%20%22abc%22%2C%20%22tms%22%3A%20false%7D%0A%20%20%20%20%20%20%20%20%20%20%20%20%29.addTo%28map_b975ebea641445c99a3c041a42d62887%29%3B%0A%20%20%20%20%20%20%20%20%0A%20%20%20%20%0A%0A%20%20%20%20%20%20%20%20function%20geo_json_845f6d78696a429d852491375518c09e_onEachFeature%28feature%2C%20layer%29%20%7B%0A%20%20%20%20%20%20%20%20%20%20%20%20layer.on%28%7B%0A%20%20%20%20%20%20%20%20%20%20%20%20%7D%29%3B%0A%20%20%20%20%20%20%20%20%7D%3B%0A%20%20%20%20%20%20%20%20var%20geo_json_845f6d78696a429d852491375518c09e%20%3D%20L.geoJson%28null%2C%20%7B%0A%20%20%20%20%20%20%20%20%20%20%20%20%20%20%20%20onEachFeature%3A%20geo_json_845f6d78696a429d852491375518c09e_onEachFeature%2C%0A%20%20%20%20%20%20%20%20%20%20%20%20%0A%20%20%20%20%20%20%20%20%7D%29%3B%0A%0A%20%20%20%20%20%20%20%20function%20geo_json_845f6d78696a429d852491375518c09e_add%20%28data%29%20%7B%0A%20%20%20%20%20%20%20%20%20%20%20%20geo_json_845f6d78696a429d852491375518c09e%0A%20%20%20%20%20%20%20%20%20%20%20%20%20%20%20%20.addData%28data%29%0A%20%20%20%20%20%20%20%20%20%20%20%20%20%20%20%20.addTo%28map_b975ebea641445c99a3c041a42d62887%29%3B%0A%20%20%20%20%20%20%20%20%7D%0A%20%20%20%20%20%20%20%20%20%20%20%20geo_json_845f6d78696a429d852491375518c09e_add%28%7B%22coordinates%22%3A%20%5B%5B%5B4.609623049975772%2C%2045.81328010871762%5D%2C%20%5B4.93146214529326%2C%2045.80823268954793%5D%2C%20%5B4.923620924917525%2C%2045.58317868102619%5D%2C%20%5B4.603087618767242%2C%2045.58820553013228%5D%2C%20%5B4.609623049975772%2C%2045.81328010871762%5D%5D%5D%2C%20%22type%22%3A%20%22Polygon%22%7D%29%3B%0A%0A%20%20%20%20%20%20%20%20%0A%20%20%20%20%0A%20%20%20%20%20%20%20%20%20%20%20%20var%20layer_control_88884d4c2ec940e9a68c295b802338af%20%3D%20%7B%0A%20%20%20%20%20%20%20%20%20%20%20%20%20%20%20%20base_layers%20%3A%20%7B%0A%20%20%20%20%20%20%20%20%20%20%20%20%20%20%20%20%20%20%20%20%22cartodbpositron%22%20%3A%20tile_layer_649c988c18094c5b86e9e5a01599f7d9%2C%0A%20%20%20%20%20%20%20%20%20%20%20%20%20%20%20%20%7D%2C%0A%20%20%20%20%20%20%20%20%20%20%20%20%20%20%20%20overlays%20%3A%20%20%7B%0A%20%20%20%20%20%20%20%20%20%20%20%20%20%20%20%20%20%20%20%20%22Bounding%20Box%22%20%3A%20geo_json_845f6d78696a429d852491375518c09e%2C%0A%20%20%20%20%20%20%20%20%20%20%20%20%20%20%20%20%7D%2C%0A%20%20%20%20%20%20%20%20%20%20%20%20%7D%3B%0A%20%20%20%20%20%20%20%20%20%20%20%20L.control.layers%28%0A%20%20%20%20%20%20%20%20%20%20%20%20%20%20%20%20layer_control_88884d4c2ec940e9a68c295b802338af.base_layers%2C%0A%20%20%20%20%20%20%20%20%20%20%20%20%20%20%20%20layer_control_88884d4c2ec940e9a68c295b802338af.overlays%2C%0A%20%20%20%20%20%20%20%20%20%20%20%20%20%20%20%20%7B%22autoZIndex%22%3A%20true%2C%20%22collapsed%22%3A%20true%2C%20%22position%22%3A%20%22topright%22%7D%0A%20%20%20%20%20%20%20%20%20%20%20%20%29.addTo%28map_b975ebea641445c99a3c041a42d62887%29%3B%0A%20%20%20%20%20%20%20%20%0A%3C/script%3E onload=\"this.contentDocument.open();this.contentDocument.write(    decodeURIComponent(this.getAttribute('data-html')));this.contentDocument.close();\" allowfullscreen webkitallowfullscreen mozallowfullscreen></iframe></div></div>"
      ],
      "text/plain": [
       "<folium.folium.Map at 0x7f18c7a3b160>"
      ]
     },
     "execution_count": 73,
     "metadata": {},
     "output_type": "execute_result"
    }
   ],
   "source": [
    "alti_data_bb_polygon = json.dumps(shapely.geometry.mapping(alti_data.calc_bb_polygon(format='wgs84')),indent=4)\n",
    "\n",
    "m = folium.Map(\n",
    "    location=[45.6, 4.9],\n",
    "    tiles=\"cartodbpositron\",\n",
    "    zoom_start=10,\n",
    ")\n",
    "\n",
    "folium.GeoJson(alti_data_bb_polygon, name=\"Bounding Box\").add_to(m)\n",
    "\n",
    "# Add the possibility to the user to display the layers or not (The layers are displayed by default.)\n",
    "folium.LayerControl().add_to(m)\n",
    "\n",
    "m"
   ]
  },
  {
   "cell_type": "markdown",
   "metadata": {},
   "source": [
    "# Load the field shapefile"
   ]
  },
  {
   "cell_type": "code",
   "execution_count": 77,
   "metadata": {},
   "outputs": [
    {
     "name": "stdout",
     "output_type": "stream",
     "text": [
      "0       POLYGON ((907748.000 6520508.100, 907742.900 6...\n",
      "1       POLYGON ((910072.900 6523975.600, 910068.900 6...\n",
      "2       POLYGON ((896896.000 6524342.400, 896913.800 6...\n",
      "3       POLYGON ((896004.200 6520785.000, 895999.000 6...\n",
      "4       POLYGON ((912960.900 6516887.800, 912958.500 6...\n",
      "                              ...                        \n",
      "9155    POLYGON ((913716.100 6520221.600, 913726.400 6...\n",
      "9156    POLYGON ((913955.300 6520072.300, 913957.700 6...\n",
      "9157    POLYGON ((910987.700 6520097.700, 911065.400 6...\n",
      "9158    POLYGON ((915525.700 6520592.100, 915586.500 6...\n",
      "9159    POLYGON ((915283.600 6523628.200, 915286.400 6...\n",
      "Name: geometry, Length: 9160, dtype: geometry\n"
     ]
    }
   ],
   "source": [
    "# Conversion of a pair of files (.shp + .shx) into a list of POLYGON included into the ASCII table Bounding Box\n",
    "import geopandas as gpd\n",
    "\n",
    "bbox_extreme_coordinates = (\n",
    "                            alti_data_extreme_bb_coordinates_lamb93['xmin'],\n",
    "                            alti_data_extreme_bb_coordinates_lamb93['xmax'],\n",
    "                            alti_data_extreme_bb_coordinates_lamb93['ymin'],\n",
    "                            alti_data_extreme_bb_coordinates_lamb93['ymax'],\n",
    ")\n",
    "gdf = gpd.read_file(\n",
    "    shapefile_path,\n",
    "    bbox=bbox_extreme_coordinates,\n",
    ")\n",
    "\n",
    "shapefile_polygones_lamb93 = gdf['geometry']\n",
    "print(shapefile_polygones_lamb93)"
   ]
  },
  {
   "cell_type": "markdown",
   "metadata": {},
   "source": [
    "# Plot the first polygon of the shapefile"
   ]
  },
  {
   "cell_type": "code",
   "execution_count": null,
   "metadata": {},
   "outputs": [],
   "source": [
    "from coordinates_utils import wgs84_epsg_code\n",
    "\n",
    "gdf_wgs84 = gdf.to_crs(\"EPSG:\"+str(wgs84_epsg_code))\n",
    "shapefile_polygones_wgs84 = gdf_wgs84['geometry']\n",
    "\n",
    "m = folium.Map(\n",
    "    location=[45.6, 4.9],\n",
    "    tiles=\"cartodbpositron\",\n",
    "    zoom_start=10,\n",
    ")\n",
    "\n",
    "folium.GeoJson(shapefile_polygones_wgs84[0:10], name=\"Bounding Box\").add_to(m)\n",
    "\n",
    "# Add the possibility to the user to display the layers or not (The layers are displayed by default.)\n",
    "folium.LayerControl().add_to(m)\n",
    "\n",
    "m"
   ]
  },
  {
   "cell_type": "markdown",
   "metadata": {},
   "source": [
    "# Creation of the field table to project the shapefiles onto"
   ]
  },
  {
   "cell_type": "code",
   "execution_count": 79,
   "metadata": {},
   "outputs": [
    {
     "name": "stdout",
     "output_type": "stream",
     "text": [
      "Number of rows : 1000\n",
      "Number of columns : 1000\n",
      "Cells content : default_field\n"
     ]
    }
   ],
   "source": [
    "# Initializes the empty field 2D table\n",
    "field_table = [['default_field' for col in range(alti_data.ncols)] for row in range(alti_data.nrows)]\n",
    "print('Number of rows : {}'.format(len(field_table[0])))\n",
    "print('Number of columns : {}'.format(len(field_table)))\n",
    "print('Cells content : {}'.format(field_table[0][0]))"
   ]
  },
  {
   "cell_type": "markdown",
   "metadata": {},
   "source": [
    "# Calculate polygons bounding boxes"
   ]
  },
  {
   "cell_type": "code",
   "execution_count": 87,
   "metadata": {},
   "outputs": [
    {
     "name": "stdout",
     "output_type": "stream",
     "text": [
      "[{'nw': (907737.6, 6520518.3), 'ne': (907748.2, 6520518.3), 'se': (907748.2, 6520504.1), 'sw': (907737.6, 6520504.1)}, {'nw': (910058.3, 6523980.8), 'ne': (910072.9, 6523980.8), 'se': (910072.9, 6523969.8), 'sw': (910058.3, 6523969.8)}, {'nw': (894041.9, 6524369.3), 'ne': (897677.2, 6524369.3), 'se': (897677.2, 6520992.0), 'sw': (894041.9, 6520992.0)}, {'nw': (895994.9, 6520796.3), 'ne': (896007.0, 6520796.3), 'se': (896007.0, 6520783.4), 'sw': (895994.9, 6520783.4)}, {'nw': (912946.4, 6517049.5), 'ne': (913001.9, 6517049.5), 'se': (913001.9, 6516812.2), 'sw': (912946.4, 6516812.2)}, {'nw': (908799.0, 6520412.9), 'ne': (908830.4, 6520412.9), 'se': (908830.4, 6520400.8), 'sw': (908799.0, 6520400.8)}, {'nw': (910151.7, 6520809.4), 'ne': (910196.1, 6520809.4), 'se': (910196.1, 6520786.2), 'sw': (910151.7, 6520786.2)}, {'nw': (904160.6, 6521720.8), 'ne': (904170.1, 6521720.8), 'se': (904170.1, 6521706.2), 'sw': (904160.6, 6521706.2)}, {'nw': (904647.7, 6521725.2), 'ne': (904661.1, 6521725.2), 'se': (904661.1, 6521700.5), 'sw': (904647.7, 6521700.5)}, {'nw': (908711.4, 6520985.9), 'ne': (908736.3, 6520985.9), 'se': (908736.3, 6520970.7), 'sw': (908711.4, 6520970.7)}]\n"
     ]
    }
   ],
   "source": [
    "from coordinates_utils import bb_bounds_to_coord\n",
    "polygon_bb_bounds = []\n",
    "polygons_bb_coordinates = []\n",
    "i=0\n",
    "for polygon in shapefile_polygones_lamb93[0:10]:\n",
    "    polygon_bb_bounds.append(polygon.bounds)\n",
    "    polygons_bb_coordinates.append(bb_bounds_to_coord(polygon_bb_bounds[i]))\n",
    "    i += 1\n",
    "print(polygons_bb_coordinates)"
   ]
  },
  {
   "cell_type": "markdown",
   "metadata": {},
   "source": [
    "# Calculate indexes of polygons BB relatively to the 2D altitudes table"
   ]
  },
  {
   "cell_type": "code",
   "execution_count": 99,
   "metadata": {},
   "outputs": [
    {
     "name": "stdout",
     "output_type": "stream",
     "text": [
      "[{'nw': (3310, 180), 'ne': (3310, 180), 'se': (3310, 179), 'sw': (3310, 179)}, {'nw': (3402, 41), 'ne': (3403, 41), 'se': (3403, 41), 'sw': (3402, 41)}, {'nw': (2762, 160), 'ne': (2907, 160), 'se': (2907, 25), 'sw': (2762, 25)}, {'nw': (2840, 169), 'ne': (2840, 169), 'se': (2840, 168), 'sw': (2840, 168)}, {'nw': (3518, 328), 'ne': (3520, 328), 'se': (3520, 318), 'sw': (3518, 318)}, {'nw': (3352, 184), 'ne': (3353, 184), 'se': (3353, 183), 'sw': (3352, 183)}, {'nw': (3406, 169), 'ne': (3408, 169), 'se': (3408, 168), 'sw': (3406, 168)}, {'nw': (3166, 132), 'ne': (3167, 132), 'se': (3167, 131), 'sw': (3166, 131)}, {'nw': (3186, 132), 'ne': (3186, 132), 'se': (3186, 131), 'sw': (3186, 131)}, {'nw': (3348, 161), 'ne': (3349, 161), 'se': (3349, 161), 'sw': (3348, 161)}]\n"
     ]
    }
   ],
   "source": [
    "from math import ceil\n",
    "\n",
    "polygons = []\n",
    "polygons_extreme_indexes = []\n",
    "for polygon_bb_coordinates in polygons_bb_coordinates[0:10]:\n",
    "    Xll_min = polygon_bb_coordinates[\"nw\"][0]\n",
    "    Xll_max = polygon_bb_coordinates[\"ne\"][0]\n",
    "    Yll_min = polygon_bb_coordinates[\"sw\"][1]\n",
    "    Yll_max = polygon_bb_coordinates[\"ne\"][1]\n",
    "\n",
    "    polygon_bb_extreme_indexes_into_table = {}\n",
    "    polygon_bb_extreme_indexes_into_table['j_min'] = ceil(abs(alti_data.xllcorner_lamb93-Xll_min)/alti_data.cellsize) - 1\n",
    "    polygon_bb_extreme_indexes_into_table['j_max'] = ceil(abs(alti_data.xllcorner_lamb93-Xll_max)/alti_data.cellsize) - 1\n",
    "    polygon_bb_extreme_indexes_into_table['i_min'] = ceil(abs(alti_data.yllcorner_lamb93-Yll_max)/alti_data.cellsize) - 1\n",
    "    polygon_bb_extreme_indexes_into_table['i_max'] = ceil(abs(alti_data.yllcorner_lamb93-Yll_min)/alti_data.cellsize) - 1\n",
    "    polygons_extreme_indexes.append(polygon_bb_extreme_indexes_into_table)\n",
    "    \n",
    "    bb_angles_indexes_dict = (\n",
    "                    polygon_bb_extreme_indexes_into_table['j_min'],\n",
    "                    polygon_bb_extreme_indexes_into_table['i_min'],\n",
    "                    polygon_bb_extreme_indexes_into_table['j_max'],\n",
    "                    polygon_bb_extreme_indexes_into_table['i_max']\n",
    "                )\n",
    "\n",
    "    polygons.append(bb_bounds_to_coord(bb_angles_indexes_dict))\n",
    "\n",
    "print(polygons)"
   ]
  },
  {
   "cell_type": "markdown",
   "metadata": {},
   "source": [
    "# Creation of the cells center coordinates table"
   ]
  },
  {
   "cell_type": "code",
   "execution_count": 100,
   "metadata": {},
   "outputs": [],
   "source": [
    "# Calculate cells center coordinates table\n",
    "cells_center_coordinates = [[None for col in range(alti_data.ncols)] for row in range(alti_data.nrows)]\n",
    "nw_coord_ref_lamb93 = (\n",
    "                        alti_data.xllcorner_lamb93 + alti_data.cellsize/2,\n",
    "                        alti_data.yllcorner_lamb93 - alti_data.cellsize/2\n",
    "                    )\n",
    "\n",
    "for row in range(len(cells_center_coordinates)):\n",
    "    for col in range(len(cells_center_coordinates[0])):\n",
    "\n",
    "        cell_center_coord = (\n",
    "            nw_coord_ref_lamb93[0]+(col)*alti_data.cellsize,\n",
    "            nw_coord_ref_lamb93[1]-(row)*alti_data.cellsize\n",
    "        )\n",
    "        cells_center_coordinates[row][col] = cell_center_coord"
   ]
  },
  {
   "cell_type": "markdown",
   "metadata": {},
   "source": [
    "# Vectorize polygons"
   ]
  },
  {
   "cell_type": "code",
   "execution_count": 101,
   "metadata": {},
   "outputs": [
    {
     "data": {
      "text/plain": [
       "[[(3310, 180), (3310, 180), (3310, 179), (3310, 179)],\n",
       " [(3402, 41), (3403, 41), (3403, 41), (3402, 41)],\n",
       " [(2762, 160), (2907, 160), (2907, 25), (2762, 25)],\n",
       " [(2840, 169), (2840, 169), (2840, 168), (2840, 168)],\n",
       " [(3518, 328), (3520, 328), (3520, 318), (3518, 318)],\n",
       " [(3352, 184), (3353, 184), (3353, 183), (3352, 183)],\n",
       " [(3406, 169), (3408, 169), (3408, 168), (3406, 168)],\n",
       " [(3166, 132), (3167, 132), (3167, 131), (3166, 131)],\n",
       " [(3186, 132), (3186, 132), (3186, 131), (3186, 131)],\n",
       " [(3348, 161), (3349, 161), (3349, 161), (3348, 161)]]"
      ]
     },
     "execution_count": 101,
     "metadata": {},
     "output_type": "execute_result"
    }
   ],
   "source": [
    "polygons_as_vectors = []\n",
    "for polygon in polygons:\n",
    "    vector = [\n",
    "                polygon['nw'],\n",
    "                polygon['ne'],\n",
    "                polygon['se'],\n",
    "                polygon['sw'],\n",
    "            ]\n",
    "    polygons_as_vectors.append(vector)\n",
    "polygons_as_vectors"
   ]
  },
  {
   "cell_type": "markdown",
   "metadata": {},
   "source": [
    "# Fill the polygons into the field map"
   ]
  },
  {
   "cell_type": "code",
   "execution_count": 103,
   "metadata": {},
   "outputs": [
    {
     "ename": "IndexError",
     "evalue": "list index out of range",
     "output_type": "error",
     "traceback": [
      "\u001b[0;31m---------------------------------------------------------------------------\u001b[0m",
      "\u001b[0;31mIndexError\u001b[0m                                Traceback (most recent call last)",
      "\u001b[0;32m/tmp/ipykernel_209471/2842049586.py\u001b[0m in \u001b[0;36m<module>\u001b[0;34m\u001b[0m\n\u001b[1;32m      6\u001b[0m     \u001b[0;32mfor\u001b[0m \u001b[0mi\u001b[0m \u001b[0;32min\u001b[0m \u001b[0mrange\u001b[0m\u001b[0;34m(\u001b[0m\u001b[0mextreme_indexes\u001b[0m\u001b[0;34m[\u001b[0m\u001b[0;34m'i_min'\u001b[0m\u001b[0;34m]\u001b[0m\u001b[0;34m,\u001b[0m\u001b[0mextreme_indexes\u001b[0m\u001b[0;34m[\u001b[0m\u001b[0;34m'i_max'\u001b[0m\u001b[0;34m]\u001b[0m\u001b[0;34m)\u001b[0m\u001b[0;34m:\u001b[0m \u001b[0;31m# x = j = rows\u001b[0m\u001b[0;34m\u001b[0m\u001b[0;34m\u001b[0m\u001b[0m\n\u001b[1;32m      7\u001b[0m         \u001b[0;32mfor\u001b[0m \u001b[0mj\u001b[0m \u001b[0;32min\u001b[0m \u001b[0mrange\u001b[0m\u001b[0;34m(\u001b[0m\u001b[0mextreme_indexes\u001b[0m\u001b[0;34m[\u001b[0m\u001b[0;34m'j_min'\u001b[0m\u001b[0;34m]\u001b[0m\u001b[0;34m,\u001b[0m\u001b[0mextreme_indexes\u001b[0m\u001b[0;34m[\u001b[0m\u001b[0;34m'j_max'\u001b[0m\u001b[0;34m]\u001b[0m\u001b[0;34m)\u001b[0m\u001b[0;34m:\u001b[0m \u001b[0;31m# y = i = columns\u001b[0m\u001b[0;34m\u001b[0m\u001b[0;34m\u001b[0m\u001b[0m\n\u001b[0;32m----> 8\u001b[0;31m             \u001b[0;32mif\u001b[0m \u001b[0mwn_PnPoly\u001b[0m\u001b[0;34m(\u001b[0m\u001b[0mcells_center_coordinates\u001b[0m\u001b[0;34m[\u001b[0m\u001b[0mi\u001b[0m\u001b[0;34m]\u001b[0m\u001b[0;34m[\u001b[0m\u001b[0mj\u001b[0m\u001b[0;34m]\u001b[0m\u001b[0;34m,\u001b[0m\u001b[0mV\u001b[0m\u001b[0;34m)\u001b[0m\u001b[0;34m:\u001b[0m\u001b[0;31m# if true, the pixel is inside the shape\u001b[0m\u001b[0;34m\u001b[0m\u001b[0;34m\u001b[0m\u001b[0m\n\u001b[0m\u001b[1;32m      9\u001b[0m                 \u001b[0mfield_table\u001b[0m\u001b[0;34m[\u001b[0m\u001b[0mi\u001b[0m\u001b[0;34m]\u001b[0m\u001b[0;34m[\u001b[0m\u001b[0mj\u001b[0m\u001b[0;34m]\u001b[0m \u001b[0;34m=\u001b[0m \u001b[0;34m'wood'\u001b[0m\u001b[0;34m\u001b[0m\u001b[0;34m\u001b[0m\u001b[0m\n",
      "\u001b[0;31mIndexError\u001b[0m: list index out of range"
     ]
    }
   ],
   "source": [
    "from winding_point_utils import wn_PnPoly\n",
    "\n",
    "for p in range(0, len(polygons_as_vectors)):\n",
    "    extreme_indexes = polygons_extreme_indexes[p]\n",
    "    V = polygons_as_vectors[p]\n",
    "    for i in range(extreme_indexes['i_min'],extreme_indexes['i_max']): # x = j = rows\n",
    "        for j in range(extreme_indexes['j_min'],extreme_indexes['j_max']): # y = i = columns\n",
    "            if wn_PnPoly(cells_center_coordinates[i][j],V):# if true, the pixel is inside the shape\n",
    "                field_table[i][j] = 'wood'"
   ]
  },
  {
   "cell_type": "markdown",
   "metadata": {},
   "source": [
    "# Plot the 10 first polygons (blue) and their BB (red)?"
   ]
  },
  {
   "cell_type": "markdown",
   "metadata": {},
   "source": []
  },
  {
   "cell_type": "markdown",
   "metadata": {},
   "source": [
    "# Merge all the tiles information into a single data structure (Jérémy)"
   ]
  },
  {
   "cell_type": "code",
   "execution_count": null,
   "metadata": {},
   "outputs": [],
   "source": [
    "merge_all = []\n",
    "Dalle1 = {}\n",
    "Dalle1['alti']=ascii_table\n",
    "Dalle1['milieu1']=[]\n",
    "Dalle1['milieu2']=[]\n",
    "\n",
    "merge_all.append(Dalle1)"
   ]
  },
  {
   "cell_type": "markdown",
   "metadata": {},
   "source": [
    "# (Optionnal) Get shapefile BoundingBox coordinates\n",
    "WGS84 coordinates system (lat, long)"
   ]
  },
  {
   "cell_type": "code",
   "execution_count": 36,
   "metadata": {},
   "outputs": [
    {
     "name": "stdout",
     "output_type": "stream",
     "text": [
      "west_bound_longitude_decimal_value : 2.0629\n",
      "east_bound_longitude_decimal_value : 7.1856\n",
      "south_bound_latitude_decimal_value : 44.1155\n",
      "north_bound_latitude_decimal_value : 46.8043\n"
     ]
    }
   ],
   "source": [
    "# xml_path = gmd:MD_Metadata/gmd:identificationInfo/gmd:MD_DataIdentification/gmd:extent/gmd:EX_Extent/gmd:geographicElement/gmd:EX_GeographicBoundingBox\n",
    "import xml.etree.ElementTree as ET\n",
    "metadata_file_name = 'metadonnees.xml'\n",
    "tree = ET.parse(shapefile_dir_path + metadata_file_name)\n",
    "root = tree.getroot()\n",
    "\n",
    "namespaces = {\n",
    "                'gmd': '{http://www.isotc211.org/2005/gmd}',\n",
    "                'gco': '{http://www.isotc211.org/2005/gco}'\n",
    "            } # add more as needed\n",
    "\n",
    "EX_GeographicBoundingBox_element = list(root.iter(namespaces['gmd']+'EX_GeographicBoundingBox'))[0]\n",
    "\n",
    "west_bound_longitude_element = list(EX_GeographicBoundingBox_element.iter(namespaces['gmd']+'westBoundLongitude'))[0]\n",
    "west_bound_longitude_decimal_element = list(west_bound_longitude_element.iter(namespaces['gco']+'Decimal'))[0]\n",
    "west_bound_longitude_decimal_value = list(west_bound_longitude_decimal_element.itertext())[0]\n",
    "print('west_bound_longitude_decimal_value : {}'.format(west_bound_longitude_decimal_value))\n",
    "\n",
    "east_bound_longitude_element = list(EX_GeographicBoundingBox_element.iter(namespaces['gmd']+'eastBoundLongitude'))[0]\n",
    "east_bound_longitude_decimal_element = list(east_bound_longitude_element.iter(namespaces['gco']+'Decimal'))[0]\n",
    "east_bound_longitude_decimal_value = list(east_bound_longitude_decimal_element.itertext())[0]\n",
    "print('east_bound_longitude_decimal_value : {}'.format(east_bound_longitude_decimal_value))\n",
    "\n",
    "south_bound_latitude_element = list(EX_GeographicBoundingBox_element.iter(namespaces['gmd']+'southBoundLatitude'))[0]\n",
    "south_bound_latitude_decimal_element = list(south_bound_latitude_element.iter(namespaces['gco']+'Decimal'))[0]\n",
    "south_bound_latitude_decimal_value = list(south_bound_latitude_decimal_element.itertext())[0]\n",
    "print('south_bound_latitude_decimal_value : {}'.format(south_bound_latitude_decimal_value))\n",
    "\n",
    "north_bound_latitude_element = list(EX_GeographicBoundingBox_element.iter(namespaces['gmd']+'northBoundLatitude'))[0]\n",
    "north_bound_latitude_decimal_element = list(north_bound_latitude_element.iter(namespaces['gco']+'Decimal'))[0]\n",
    "north_bound_latitude_decimal_value = list(north_bound_latitude_decimal_element.itertext())[0]\n",
    "print('north_bound_latitude_decimal_value : {}'.format(north_bound_latitude_decimal_value))"
   ]
  }
 ],
 "metadata": {
  "interpreter": {
   "hash": "0727fce04a152e472e8079dbd947cfba806f7bfd684be5ca6c2326bf4c57dfdb"
  },
  "kernelspec": {
   "display_name": "Python 3.8.10 64-bit ('.venv': venv)",
   "language": "python",
   "name": "python3"
  },
  "language_info": {
   "codemirror_mode": {
    "name": "ipython",
    "version": 3
   },
   "file_extension": ".py",
   "mimetype": "text/x-python",
   "name": "python",
   "nbconvert_exporter": "python",
   "pygments_lexer": "ipython3",
   "version": "3.8.10"
  },
  "orig_nbformat": 4
 },
 "nbformat": 4,
 "nbformat_minor": 2
}
