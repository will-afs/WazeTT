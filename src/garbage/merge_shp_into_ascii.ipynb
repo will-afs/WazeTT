{
 "cells": [
  {
   "cell_type": "markdown",
   "metadata": {},
   "source": [
    "# Load ascii file in memory"
   ]
  },
  {
   "cell_type": "code",
   "execution_count": 8,
   "metadata": {},
   "outputs": [],
   "source": [
    "ascii_file_dir_path = '../data/input/bd_alti/'\n",
    "ascii_file_name = 'BDALTIV2_25M_FXX_0825_6525_MNT_LAMB93_IGN69.asc'\n",
    "\n",
    "with open(ascii_file_dir_path + ascii_file_name, 'r') as ascii_file:\n",
    "    ncols = int(ascii_file.readline().replace('ncols', '').replace(' ', '').replace('\\n', ''))\n",
    "    nrows = int(ascii_file.readline().replace('nrows', '').replace(' ', '').replace('\\n', ''))\n",
    "    xllcorner = float(ascii_file.readline().replace('xllcorner', '').replace(' ', '').replace('\\n', ''))\n",
    "    yllcorner = float(ascii_file.readline().replace('yllcorner', '').replace(' ', '').replace('\\n', ''))\n",
    "    cellsize = int(float(ascii_file.readline().replace('cellsize', '').replace(' ', '').replace('\\n', '')))\n",
    "    NODATA_value = float(ascii_file.readline().replace('NODATA_value', '').replace(' ', '').replace('\\n', ''))\n",
    "    altitudes_table = []\n",
    "    for line in ascii_file.readlines():\n",
    "        raw_altitudes_line = line.split(' ')\n",
    "        raw_altitudes_line.remove('')\n",
    "        altitudes_table.append([float(alt) for alt in raw_altitudes_line])"
   ]
  },
  {
   "cell_type": "markdown",
   "metadata": {},
   "source": [
    "# Deduce Bounding Box coordinates\n",
    "Coordinates system : Lambert93 (xll, yll)"
   ]
  },
  {
   "cell_type": "code",
   "execution_count": 12,
   "metadata": {},
   "outputs": [
    {
     "name": "stdout",
     "output_type": "stream",
     "text": [
      "ascii_west_bound_xll : 824987.5\n",
      "ascii_east_bound_xll : 849987.5\n",
      "ascii_north_bound_yll : 6500012.5\n",
      "ascii_south_bound_yll : 6475012.5\n"
     ]
    }
   ],
   "source": [
    "ascii_west_bound_xll = xllcorner\n",
    "ascii_north_bound_yll = yllcorner\n",
    "ascii_east_bound_xll = xllcorner + cellsize * ncols\n",
    "ascii_south_bound_yll = yllcorner - cellsize * nrows\n",
    "\n",
    "print('ascii_west_bound_xll : ' + str(ascii_west_bound_xll))\n",
    "print('ascii_east_bound_xll : ' + str(ascii_east_bound_xll))\n",
    "print('ascii_north_bound_yll : ' + str(ascii_north_bound_yll))\n",
    "print('ascii_south_bound_yll : ' + str(ascii_south_bound_yll))\n"
   ]
  },
  {
   "cell_type": "markdown",
   "metadata": {},
   "source": [
    "# Load shapefile Bounding Box coordinates from metadata\n",
    "Coordinates system : WSG84 (longitude, latitude)"
   ]
  },
  {
   "cell_type": "code",
   "execution_count": 17,
   "metadata": {},
   "outputs": [
    {
     "name": "stdout",
     "output_type": "stream",
     "text": [
      "shp_west_bound_longitude: 2.0629\n",
      "shp_east_bound_longitude: 7.1856\n",
      "shp_south_bound_latitude: 44.1155\n",
      "shp_north_bound_latitude: 46.8043\n"
     ]
    }
   ],
   "source": [
    "import xml.etree.ElementTree as ET\n",
    "shapefile_dir_path = '../data/input/bd_carto/'\n",
    "metadata_file_name = 'metadata.xml'\n",
    "tree = ET.parse(shapefile_dir_path + metadata_file_name)\n",
    "root = tree.getroot()\n",
    "\n",
    "namespaces = {\n",
    "                'gmd':'{http://www.isotc211.org/2005/gmd}',\n",
    "                'gco':'{http://www.isotc211.org/2005/gco}'\n",
    "            }\n",
    "\n",
    "EX_GeographicBoundingBox_element = list(root.iter(namespaces['gmd']+'EX_GeographicBoundingBox'))[0]\n",
    "\n",
    "west_bound_longitude_element = list(EX_GeographicBoundingBox_element.iter(namespaces['gmd']+'westBoundLongitude'))[0]\n",
    "west_bound_longitude_decimal_element = list(west_bound_longitude_element.iter(namespaces['gco']+'Decimal'))[0]\n",
    "shp_west_bound_longitude = float(list(west_bound_longitude_decimal_element.itertext())[0])\n",
    "print('shp_west_bound_longitude: ' + str(shp_west_bound_longitude))\n",
    "\n",
    "east_bound_longitude_element = list(EX_GeographicBoundingBox_element.iter(namespaces['gmd']+'eastBoundLongitude'))[0]\n",
    "east_bound_longitude_decimal_element = list(east_bound_longitude_element.iter(namespaces['gco']+'Decimal'))[0]\n",
    "shp_east_bound_longitude = float(list(east_bound_longitude_decimal_element.itertext())[0])\n",
    "print('shp_east_bound_longitude: ' + str(shp_east_bound_longitude))\n",
    "\n",
    "south_bound_latitude_element = list(EX_GeographicBoundingBox_element.iter(namespaces['gmd']+'southBoundLatitude'))[0]\n",
    "south_bound_latitude_decimal_element = list(south_bound_latitude_element.iter(namespaces['gco']+'Decimal'))[0]\n",
    "shp_south_bound_latitude = float(list(south_bound_latitude_decimal_element.itertext())[0])\n",
    "print('shp_south_bound_latitude: ' + str(shp_south_bound_latitude))\n",
    "\n",
    "north_bound_latitude_element = list(EX_GeographicBoundingBox_element.iter(namespaces['gmd']+'northBoundLatitude'))[0]\n",
    "north_bound_latitude_decimal_element = list(north_bound_latitude_element.iter(namespaces['gco']+'Decimal'))[0]\n",
    "shp_north_bound_latitude = float(list(north_bound_latitude_decimal_element.itertext())[0])\n",
    "print('shp_north_bound_latitude: ' + str(shp_north_bound_latitude))"
   ]
  },
  {
   "cell_type": "markdown",
   "metadata": {},
   "source": [
    "# Load shapefile in memory"
   ]
  },
  {
   "cell_type": "markdown",
   "metadata": {},
   "source": [
    "# Convert WSG84 coordinates to Lamb93"
   ]
  }
 ],
 "metadata": {
  "interpreter": {
   "hash": "0727fce04a152e472e8079dbd947cfba806f7bfd684be5ca6c2326bf4c57dfdb"
  },
  "kernelspec": {
   "display_name": "Python 3.8.10 64-bit ('.venv': venv)",
   "language": "python",
   "name": "python3"
  },
  "language_info": {
   "codemirror_mode": {
    "name": "ipython",
    "version": 3
   },
   "file_extension": ".py",
   "mimetype": "text/x-python",
   "name": "python",
   "nbconvert_exporter": "python",
   "pygments_lexer": "ipython3",
   "version": "3.8.10"
  },
  "orig_nbformat": 4
 },
 "nbformat": 4,
 "nbformat_minor": 2
}
