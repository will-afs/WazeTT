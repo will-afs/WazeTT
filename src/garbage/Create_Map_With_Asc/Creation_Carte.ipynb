{
 "cells": [
  {
   "cell_type": "code",
   "execution_count": 10,
   "id": "bcc8ac4b",
   "metadata": {},
   "outputs": [],
   "source": [
    "nb_ligne = 7        # Normalement 1000, 8 pour être lisible\n",
    "nb_colonne = 5      # Normalement 1000, 7 pour être lisible\n",
    "xll_corner = 6500000 # Provisoire, le vrai est définit dans la fonction convert_alti\n",
    "yll_corner = 700000  # Provisoire, le vrai est définit dans la fonction convert_alti"
   ]
  },
  {
   "cell_type": "code",
   "execution_count": 11,
   "id": "d1591c04",
   "metadata": {},
   "outputs": [],
   "source": [
    "def convert_alti(link_file):\n",
    "    \n",
    "    #Définir avant le chemin avec : link_file = \"DE.txt\"\n",
    "    #link_file = \"DE.txt\"\n",
    "    file = open(link_file, \"r\")\n",
    "    lignes = file.readlines()  # Stockage du fichier altimétrique dans la liste lignes\n",
    "    \n",
    "    txt_xllcorner = lignes[2]\n",
    "    a=txt_xllcorner.split(\"    \")\n",
    "    b=a[1]\n",
    "    e = b.split(\"\\n\")\n",
    "    xll_corner = float(e[0])   # Récupération du xll_corner\n",
    "    \n",
    "    txt_yllcorner = lignes[3]\n",
    "    c=txt_yllcorner.split(\"    \")\n",
    "    d=c[1]\n",
    "    f = d.split(\"\\n\")\n",
    "    yll_corner = float(f[0])  # Récupération du yll_corner\n",
    "    \n",
    "    L_alti= []\n",
    "    for j in range(6,1006): \n",
    "        ligne = lignes[j].split(\" \")\n",
    "        del ligne[0]\n",
    "        l = []\n",
    "        for i in range(len(ligne)):\n",
    "            l.append(float(ligne[i]))\n",
    "        L_alti.append(l)\n",
    "    \n",
    "    \n",
    "    return(xll_corner,yll_corner,L_alti)"
   ]
  },
  {
   "cell_type": "code",
   "execution_count": 12,
   "id": "29f723b3",
   "metadata": {},
   "outputs": [
    {
     "name": "stdout",
     "output_type": "stream",
     "text": [
      " Tableau des coordonnées au format Lambert93 \n",
      "\n",
      "[(6500000, 700000), (6500000, 700025), (6500000, 700050), (6500000, 700075), (6500000, 700100)]\n",
      "[(6500025, 700000), (6500025, 700025), (6500025, 700050), (6500025, 700075), (6500025, 700100)]\n",
      "[(6500050, 700000), (6500050, 700025), (6500050, 700050), (6500050, 700075), (6500050, 700100)]\n",
      "[(6500075, 700000), (6500075, 700025), (6500075, 700050), (6500075, 700075), (6500075, 700100)]\n",
      "[(6500100, 700000), (6500100, 700025), (6500100, 700050), (6500100, 700075), (6500100, 700100)]\n",
      "[(6500125, 700000), (6500125, 700025), (6500125, 700050), (6500125, 700075), (6500125, 700100)]\n",
      "[(6500150, 700000), (6500150, 700025), (6500150, 700050), (6500150, 700075), (6500150, 700100)]\n",
      "\n",
      "\n",
      " Tableau des altitudes \n",
      "\n",
      "[100, 101, 102, 103, 104]\n",
      "[101, 102, 103, 104, 105]\n",
      "[102, 103, 104, 105, 106]\n",
      "[103, 104, 105, 106, 107]\n",
      "[104, 105, 106, 107, 108]\n",
      "[105, 106, 107, 108, 109]\n",
      "[106, 107, 108, 109, 110]\n",
      "\n",
      "\n",
      " Tableau des milieux \n",
      "\n",
      "['bois', 'bois', 'bois', 'bois', 'bois']\n",
      "['bois', 'bois', 'bois', 'bois', 'bois']\n",
      "['bois', 'bois', 'bois', 'bois', 'bois']\n",
      "['bois', 'bois', 'bois', 'bois', 'bois']\n",
      "['bois', 'bois', 'bois', 'bois', 'bois']\n",
      "['bois', 'bois', 'bois', 'bois', 'bois']\n",
      "['bois', 'bois', 'bois', 'bois', 'bois']\n",
      "\n",
      "\n",
      "[[[(6500000, 700000), (6500000, 700025), (6500000, 700050), (6500000, 700075), (6500000, 700100)], [(6500025, 700000), (6500025, 700025), (6500025, 700050), (6500025, 700075), (6500025, 700100)], [(6500050, 700000), (6500050, 700025), (6500050, 700050), (6500050, 700075), (6500050, 700100)], [(6500075, 700000), (6500075, 700025), (6500075, 700050), (6500075, 700075), (6500075, 700100)], [(6500100, 700000), (6500100, 700025), (6500100, 700050), (6500100, 700075), (6500100, 700100)], [(6500125, 700000), (6500125, 700025), (6500125, 700050), (6500125, 700075), (6500125, 700100)], [(6500150, 700000), (6500150, 700025), (6500150, 700050), (6500150, 700075), (6500150, 700100)]], [[100, 101, 102, 103, 104], [101, 102, 103, 104, 105], [102, 103, 104, 105, 106], [103, 104, 105, 106, 107], [104, 105, 106, 107, 108], [105, 106, 107, 108, 109], [106, 107, 108, 109, 110]], [['bois', 'bois', 'bois', 'bois', 'bois'], ['bois', 'bois', 'bois', 'bois', 'bois'], ['bois', 'bois', 'bois', 'bois', 'bois'], ['bois', 'bois', 'bois', 'bois', 'bois'], ['bois', 'bois', 'bois', 'bois', 'bois'], ['bois', 'bois', 'bois', 'bois', 'bois'], ['bois', 'bois', 'bois', 'bois', 'bois']]]\n"
     ]
    }
   ],
   "source": [
    "print (\" Tableau des coordonnées au format Lambert93 \\n\" )\n",
    "\n",
    "tab_coord = []\n",
    "for line in range(nb_ligne):\n",
    "    nvline = []\n",
    "    for col in range(nb_colonne):\n",
    "        nvline.append((xll_corner + 25*line, yll_corner + 25*col))\n",
    "    tab_coord.append(nvline)\n",
    "for line in tab_coord:\n",
    "    print(line)\n",
    "    \n",
    "\n",
    "print(\"\\n\")\n",
    "print (\" Tableau des altitudes \\n\")\n",
    "    \n",
    "tab_alti = []\n",
    "for line in range(nb_ligne):\n",
    "    nvline = []\n",
    "    for col in range(nb_colonne):\n",
    "        nvline.append(100+line+col)\n",
    "    tab_alti.append(nvline)\n",
    "for line in tab_alti:\n",
    "    print(line)\n",
    "\n",
    "print(\"\\n\")\n",
    "print (\" Tableau des milieux \\n\")\n",
    "    \n",
    "tab_milieu = []\n",
    "for line in range(nb_ligne):\n",
    "    nvline = []\n",
    "    for col in range(nb_colonne):\n",
    "        nvline.append('bois')\n",
    "    tab_milieu.append(nvline)\n",
    "for line in tab_milieu:\n",
    "    print(line)\n",
    "\n",
    "print(\"\\n\")\n",
    "\n",
    "L=[tab_coord,tab_alti,tab_milieu]\n",
    "print(L)"
   ]
  },
  {
   "cell_type": "markdown",
   "id": "a86032ed",
   "metadata": {},
   "source": [
    "## Insérer le shapefile dans le tableau des coordonnées "
   ]
  },
  {
   "cell_type": "code",
   "execution_count": 13,
   "id": "b0ef46d4",
   "metadata": {},
   "outputs": [
    {
     "name": "stdout",
     "output_type": "stream",
     "text": [
      "[(6500000, 700000), (6500000, 700025), (6500000, 700050), (6500000, 700075), (6500000, 700100)]\n",
      "[(6500025, 700000), (6500025, 700025), (6500025, 700050), (6500025, 700075), (6500025, 700100)]\n",
      "[(6500050, 700000), (6500050, 700025), (6500050, 700050), (6500050, 700075), (6500050, 700100)]\n",
      "[(6500075, 700000), (6500075, 700025), (6500075, 700050), (6500075, 700075), (6500075, 700100)]\n",
      "[(6500100, 700000), (6500100, 700025), (6500100, 700050), (6500100, 700075), (6500100, 700100)]\n",
      "[(6500125, 700000), (6500125, 700025), (6500125, 700050), (6500125, 700075), (6500125, 700100)]\n",
      "[(6500150, 700000), (6500150, 700025), (6500150, 700050), (6500150, 700075), (6500150, 700100)]\n"
     ]
    }
   ],
   "source": [
    "for line in tab_coord:\n",
    "    print(line)"
   ]
  },
  {
   "cell_type": "code",
   "execution_count": 16,
   "id": "12fd0f03",
   "metadata": {},
   "outputs": [
    {
     "ename": "ModuleNotFoundError",
     "evalue": "No module named 'geopandas'",
     "output_type": "error",
     "traceback": [
      "\u001b[1;31m---------------------------------------------------------------------------\u001b[0m",
      "\u001b[1;31mModuleNotFoundError\u001b[0m                       Traceback (most recent call last)",
      "\u001b[1;32m~\\AppData\\Local\\Temp/ipykernel_4124/3327472751.py\u001b[0m in \u001b[0;36m<module>\u001b[1;34m\u001b[0m\n\u001b[1;32m----> 1\u001b[1;33m \u001b[1;32mimport\u001b[0m \u001b[0mgeopandas\u001b[0m \u001b[1;32mas\u001b[0m \u001b[0mgpd\u001b[0m\u001b[1;33m\u001b[0m\u001b[1;33m\u001b[0m\u001b[0m\n\u001b[0m\u001b[0;32m      2\u001b[0m \u001b[1;32mimport\u001b[0m \u001b[0mmatplotlib\u001b[0m\u001b[1;33m.\u001b[0m\u001b[0mpyplot\u001b[0m \u001b[1;32mas\u001b[0m \u001b[0mplt\u001b[0m\u001b[1;33m\u001b[0m\u001b[1;33m\u001b[0m\u001b[0m\n\u001b[0;32m      3\u001b[0m \u001b[1;33m\u001b[0m\u001b[0m\n\u001b[0;32m      4\u001b[0m \u001b[0mshapefile\u001b[0m \u001b[1;33m=\u001b[0m \u001b[0mgpd\u001b[0m\u001b[1;33m.\u001b[0m\u001b[0mread_file\u001b[0m\u001b[1;33m(\u001b[0m\u001b[1;33m)\u001b[0m\u001b[1;33m\u001b[0m\u001b[1;33m\u001b[0m\u001b[0m\n\u001b[0;32m      5\u001b[0m \u001b[0mprint\u001b[0m\u001b[1;33m(\u001b[0m\u001b[0mshapefile\u001b[0m\u001b[1;33m)\u001b[0m\u001b[1;33m\u001b[0m\u001b[1;33m\u001b[0m\u001b[0m\n",
      "\u001b[1;31mModuleNotFoundError\u001b[0m: No module named 'geopandas'"
     ]
    }
   ],
   "source": [
    "import geopandas as gpd\n",
    "import matplotlib.pyplot as plt\n",
    "\n",
    "shapefile = gpd.read_file()\n",
    "print(shapefile)\n",
    "shapefile.plot()\n",
    "plt.show()"
   ]
  },
  {
   "cell_type": "code",
   "execution_count": null,
   "id": "d26adaa6",
   "metadata": {},
   "outputs": [],
   "source": []
  }
 ],
 "metadata": {
  "kernelspec": {
   "display_name": "Python 3 (ipykernel)",
   "language": "python",
   "name": "python3"
  },
  "language_info": {
   "codemirror_mode": {
    "name": "ipython",
    "version": 3
   },
   "file_extension": ".py",
   "mimetype": "text/x-python",
   "name": "python",
   "nbconvert_exporter": "python",
   "pygments_lexer": "ipython3",
   "version": "3.9.7"
  }
 },
 "nbformat": 4,
 "nbformat_minor": 5
}
