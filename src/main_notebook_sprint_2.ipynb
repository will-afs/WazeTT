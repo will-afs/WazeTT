{
 "cells": [
  {
   "cell_type": "markdown",
   "id": "1964d853",
   "metadata": {},
   "source": [
    "# Step 1 : Image load"
   ]
  },
  {
   "cell_type": "code",
   "execution_count": 12,
   "id": "91fe2941",
   "metadata": {
    "scrolled": false
   },
   "outputs": [
    {
     "data": {
      "image/png": "[encoded data removed]",
      "text/plain": [
       "<Figure size 432x288 with 1 Axes>"
      ]
     },
     "metadata": {
      "needs_background": "light"
     },
     "output_type": "display_data"
    }
   ],
   "source": [
    "import numpy as np\n",
    "import matplotlib.image as mpimg\n",
    "import matplotlib.pyplot as plt\n",
    "import random\n",
    "import os\n",
    "img = mpimg.imread(\"../data/input/dummy_data/dummy_streets.png\")\n",
    "plt.imshow(img)\n",
    "plt.show()\n",
    "#mpimg.imsave(\"resultat.png\", img) # Save result"
   ]
  },
  {
   "cell_type": "markdown",
   "id": "7daa4082",
   "metadata": {},
   "source": [
    "# Step 2 : Creation of the cost matrix"
   ]
  },
  {
   "cell_type": "code",
   "execution_count": 13,
   "id": "b9c651af",
   "metadata": {},
   "outputs": [
    {
     "name": "stdout",
     "output_type": "stream",
     "text": [
      "format img_int  (1346, 1254, 1)\n",
      "format img  (1346, 1254, 3)\n",
      "Value of a black pixel, image  [0. 0. 0.]\n",
      "Value of a black pixel, image int  [1001.]\n",
      "Value of a white pixel, image  [1. 1. 1.]\n",
      "Value of a white pixel, image int  [1.]\n"
     ]
    }
   ],
   "source": [
    "img_int = np.zeros((img.shape[0],img.shape[1],1))\n",
    "for i in range(img.shape[0]):\n",
    "    for j in range(img.shape[1]):\n",
    "        if img[i][j][0] == 1 and img[i][j][1] == 1 and img[i][j][2] == 1 :\n",
    "            img_int[i][j] = 1\n",
    "        else:\n",
    "            img_int[i][j] = 1001\n",
    "print(\"format img_int \",img_int.shape )\n",
    "print(\"format img \",img.shape )\n",
    "print(\"Value of a black pixel, image \",img[600][750])\n",
    "print(\"Value of a black pixel, image int \",img_int[600][750])\n",
    "print(\"Value of a white pixel, image \",img[1000][1250])\n",
    "print(\"Value of a white pixel, image int \",img_int[1000][1250])"
   ]
  },
  {
   "cell_type": "markdown",
   "id": "75944183",
   "metadata": {},
   "source": [
    "# Etape 3 : Problem settings\n",
    "### \tCreation of the course graph\n",
    "###\t    Initialization of the neighbors"
   ]
  },
  {
   "cell_type": "code",
   "execution_count": 15,
   "id": "52a14a6f",
   "metadata": {},
   "outputs": [
    {
     "name": "stdout",
     "output_type": "stream",
     "text": [
      "Neighbors  [(700, 301), (701, 301), (701, 300), (701, 299), (700, 299), (699, 299), (699, 300), (699, 301)]\n",
      "[(700, 300)]\n"
     ]
    }
   ],
   "source": [
    "import numpy as np\n",
    "\n",
    "# Problem settings\n",
    "initial_autonomy = 900\n",
    "initial_position =( 700,300)\n",
    "environment_copy = img_int\n",
    "environment = img_int\n",
    "ancient_neighbors = []\n",
    "distance = 100*np.ones((img_int.shape[0],img_int.shape[1]))\n",
    "\n",
    "# Settings of the zone and of the moves matrix\n",
    "distance[initial_position] = initial_autonomy\n",
    "\n",
    "#Initialization of the 8 neighbors\n",
    "neighbors = []\n",
    "primary_move = [(0,1),(1,1),(1,0),(1,-1),(0,-1),(-1,-1),(-1,0),(-1,1)]\n",
    "for i in primary_move :\n",
    "    neighbors.append((initial_position[0]+i[0],initial_position[1]+i[1]))\n",
    "    ancient_neighbors.append((initial_position[0]+i[0],initial_position[1]+i[1]))\n",
    "print(\"Neighbors \",neighbors)\n",
    "   \n",
    "neighbors=[initial_position]\n",
    "print(neighbors)\n",
    "\n",
    "def display():\n",
    "    print(\"       Environment:\\n\", environment)\n",
    "    print(\"            Distance:\\n\", distance)\n",
    "    print(\"Neighbors: \", neighbors)\n",
    "    return()\n",
    "\n"
   ]
  },
  {
   "cell_type": "code",
   "execution_count": 16,
   "id": "370eced6",
   "metadata": {
    "scrolled": false
   },
   "outputs": [
    {
     "data": {
      "image/png": "[encoded data removed]",
      "text/plain": [
       "<Figure size 432x288 with 1 Axes>"
      ]
     },
     "metadata": {
      "needs_background": "light"
     },
     "output_type": "display_data"
    }
   ],
   "source": [
    "img_colorized = np.zeros((img.shape[0],img.shape[1],3))\n",
    "for i in range(img.shape[0]):\n",
    "    for j in range(img.shape[1]):\n",
    "        if img[i][j][0] == 1 and img[i][j][1] == 1 and img[i][j][2] == 1 : # white\n",
    "            img_colorized[i][j][0] = 1\n",
    "            img_colorized[i][j][1] = 0.79\n",
    "            img_colorized[i][j][2] = 0.39 # sand\n",
    "        else: # black\n",
    "            img_colorized[i][j][0] = 0.34\n",
    "            img_colorized[i][j][1] = 0.39\n",
    "            img_colorized[i][j][2] = 0.26 # dark green\n",
    "plt.imshow(img_colorized)\n",
    "plt.show()"
   ]
  },
  {
   "cell_type": "markdown",
   "id": "dc565f14",
   "metadata": {},
   "source": [
    "# Step 4 : Graph skim"
   ]
  },
  {
   "cell_type": "code",
   "execution_count": 17,
   "id": "f6e810cc",
   "metadata": {},
   "outputs": [
    {
     "name": "stdout",
     "output_type": "stream",
     "text": [
      "Graph skimmed\n"
     ]
    }
   ],
   "source": [
    "initial_summit = neighbors[0]\n",
    "\n",
    "\n",
    "\n",
    "while len(neighbors) > 0 :\n",
    "    \n",
    "    #  1-Take an initial position on the graph\n",
    "    #  2-Choose the first summit in the stack\n",
    "    #  3-Annotate the neighbors of this summit\n",
    "    #    a) For each neighbor of this summit : \n",
    "    #      - It is part of the boundary = > nothing to do\n",
    "    #      - It is unknown => calculate the movement; add it to the boundary, remove from the boundary list\n",
    "    \n",
    "    initial_summit = neighbors[0]\n",
    "    for i in primary_move :\n",
    "        if (0 <= initial_summit[0]+i[0] <= distance.shape[0]) and (0 <= initial_summit[1]+i[1] <= distance.shape[1]) :\n",
    "            # Check whether the target summit does not go out of the map\n",
    "            target_summit=((initial_summit[0]+i[0],initial_summit[1]+i[1]))\n",
    "            if distance[target_summit] == 100 : # unknown summit\n",
    "                if distance[initial_summit]-environment[target_summit]>=0 : # possible move\n",
    "                    distance[target_summit] = distance[initial_summit]-environment[target_summit]\n",
    "                    img_colorized[target_summit][0] = 1\n",
    "                    img_colorized[target_summit][1] = 0\n",
    "                    img_colorized[target_summit][2] = 0 # red\n",
    "                    if target_summit not in neighbors :\n",
    "                        neighbors.append(target_summit)\n",
    "                        ancient_neighbors.append(target_summit)\n",
    "\n",
    "    \n",
    "    \n",
    "    if initial_summit in neighbors : \n",
    "        neighbors.remove(initial_summit)\n",
    "\n",
    "print(\"Graph skimmed\")\n",
    "\n"
   ]
  },
  {
   "cell_type": "markdown",
   "id": "3f2a897f",
   "metadata": {},
   "source": [
    "# Step 5 : Display of the moves matrix"
   ]
  },
  {
   "cell_type": "code",
   "execution_count": 18,
   "id": "4974da93",
   "metadata": {},
   "outputs": [
    {
     "data": {
      "text/plain": [
       "<function matplotlib.pyplot.show(close=None, block=None)>"
      ]
     },
     "execution_count": 18,
     "metadata": {},
     "output_type": "execute_result"
    },
    {
     "data": {
      "image/png": "[encoded data removed]",
      "text/plain": [
       "<Figure size 288x288 with 2 Axes>"
      ]
     },
     "metadata": {
      "needs_background": "light"
     },
     "output_type": "display_data"
    }
   ],
   "source": [
    "from matplotlib import pyplot as plt\n",
    "my_matrix = np.zeros((img_int.shape[0],img_int.shape[0]))\n",
    "for i in range(distance.shape[0]-100):\n",
    "    for j in range(distance.shape[1]-100):\n",
    "        if distance[i][j]==100 :\n",
    "            my_matrix[i][j]=0\n",
    "        else:\n",
    "            my_matrix[i][j]=(distance[i][j])\n",
    "\n",
    "im1 = plt.matshow(my_matrix)\n",
    "plt.colorbar(im1)\n",
    "plt.show"
   ]
  },
  {
   "cell_type": "markdown",
   "id": "f5ec0d9f",
   "metadata": {},
   "source": [
    "# Step 6 : Coloring of the initial image"
   ]
  },
  {
   "cell_type": "markdown",
   "id": "f2180d0a",
   "metadata": {},
   "source": [
    "# Step 7 : Isochrone display"
   ]
  },
  {
   "cell_type": "code",
   "execution_count": 19,
   "id": "5b085c51",
   "metadata": {},
   "outputs": [
    {
     "data": {
      "image/png": "[encoded data removed]",
      "text/plain": [
       "<Figure size 432x288 with 1 Axes>"
      ]
     },
     "metadata": {
      "needs_background": "light"
     },
     "output_type": "display_data"
    }
   ],
   "source": [
    "img_iso = img_colorized\n",
    "for i in range(img_colorized.shape[0]-100):\n",
    "    for j in range(img_colorized.shape[1]-100):\n",
    "        #if 1 < my_matrix[i][j] < 5 : \n",
    "            #img_iso[i][j][0] = max(1,img_iso[i][j][0] + (my_matrix[i][j]/initial_autonomy))/2\n",
    "            #img_iso[i][j][1] = img_iso[i][j][1]/10\n",
    "            #img_iso[i][j][2] = img_iso[i][j][2]/10\n",
    "            # Isochrone curve\n",
    "        if initial_position[0]*0.95 < i < initial_position[0]*1.05 and initial_position[1]*0.95 < j < initial_position[1]*1.05 :\n",
    "            img_iso[i][j][0] = 0\n",
    "            img_iso[i][j][1] = 1\n",
    "            img_iso[i][j][2] = 0\n",
    "            # Initial red point\n",
    "plt.imshow(img_iso)\n",
    "plt.show()"
   ]
  },
  {
   "cell_type": "code",
   "execution_count": 20,
   "id": "24cc8a3b",
   "metadata": {
    "scrolled": false
   },
   "outputs": [
    {
     "data": {
      "text/plain": [
       "<matplotlib.image.AxesImage at 0x7f81ff8f0940>"
      ]
     },
     "execution_count": 20,
     "metadata": {},
     "output_type": "execute_result"
    },
    {
     "data": {
      "image/png": "[encoded data removed]",
      "text/plain": [
       "<Figure size 432x288 with 1 Axes>"
      ]
     },
     "metadata": {
      "needs_background": "light"
     },
     "output_type": "display_data"
    }
   ],
   "source": [
    "plt.imshow(img_colorized)"
   ]
  }
 ],
 "metadata": {
  "kernelspec": {
   "display_name": "Python 3 (ipykernel)",
   "language": "python",
   "name": "python3"
  },
  "language_info": {
   "codemirror_mode": {
    "name": "ipython",
    "version": 3
   },
   "file_extension": ".py",
   "mimetype": "text/x-python",
   "name": "python",
   "nbconvert_exporter": "python",
   "pygments_lexer": "ipython3",
   "version": "3.8.10"
  }
 },
 "nbformat": 4,
 "nbformat_minor": 5
}
