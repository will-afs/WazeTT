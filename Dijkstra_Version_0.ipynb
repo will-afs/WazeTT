{
 "cells": [
  {
   "cell_type": "code",
   "execution_count": 39,
   "id": "91fe2941",
   "metadata": {
    "scrolled": false
   },
   "outputs": [
    {
     "data": {
      "image/png": "[encoded data removed]",
      "text/plain": [
       "<Figure size 432x288 with 1 Axes>"
      ]
     },
     "metadata": {
      "needs_background": "light"
     },
     "output_type": "display_data"
    }
   ],
   "source": [
    "import numpy as np\n",
    "import matplotlib.image as mpimg\n",
    "import matplotlib.pyplot as plt\n",
    "img = mpimg.imread(\"image.png\")\n",
    "plt.imshow(img)\n",
    "plt.show()\n",
    "#Sauvegarder\n",
    "#mpimg.imsave(\"resultat.png\", img)"
   ]
  },
  {
   "cell_type": "code",
   "execution_count": 40,
   "id": "b9c651af",
   "metadata": {},
   "outputs": [
    {
     "name": "stdout",
     "output_type": "stream",
     "text": [
      "format img_int  (1440, 1460, 1)\n",
      "format img  (1440, 1460, 3)\n",
      "Valeur d'un pixel noir, image  [0. 0. 0.]\n",
      "Valeur d'un pixel noir, image int  [20.]\n",
      "Valeur d'un pixel blanc, image  [1. 1. 1.]\n",
      "Valeur d'un pixel blanc, image int  [1.]\n"
     ]
    }
   ],
   "source": [
    "img_int = np.zeros((img.shape[0],img.shape[1],1))\n",
    "for i in range(img.shape[0]):\n",
    "    for j in range(img.shape[1]):\n",
    "        if img[i][j][0] == 1 and img[i][j][1] == 1 and img[i][j][2] == 1 :\n",
    "            img_int[i][j] = 1\n",
    "        else:\n",
    "            img_int[i][j] = 20\n",
    "print(\"format img_int \",img_int.shape )\n",
    "print(\"format img \",img.shape )\n",
    "print(\"Valeur d'un pixel noir, image \",img[600][750])\n",
    "print(\"Valeur d'un pixel noir, image int \",img_int[600][750])\n",
    "print(\"Valeur d'un pixel blanc, image \",img[1000][1250])\n",
    "print(\"Valeur d'un pixel blanc, image int \",img_int[1000][1250])"
   ]
  },
  {
   "cell_type": "code",
   "execution_count": 41,
   "id": "52a14a6f",
   "metadata": {},
   "outputs": [
    {
     "name": "stdout",
     "output_type": "stream",
     "text": [
      "Voisins  [(900, 601), (901, 601), (901, 600), (901, 599), (900, 599), (899, 599), (899, 600), (899, 601)]\n",
      "[(900, 600)]\n"
     ]
    }
   ],
   "source": [
    "import numpy as np\n",
    "\n",
    "#Paramètre du problème\n",
    "autonomie_initiale = 400\n",
    "position_initiale=(900,600)\n",
    "copie_milieu = img_int\n",
    "Milieu = img_int\n",
    "Distance = 100*np.ones((img_int.shape[0],img_int.shape[1]))\n",
    "\n",
    "#Paramétrage de la zone et de la matrice déplacement\n",
    "Distance[position_initiale] = autonomie_initiale\n",
    "\n",
    "#Initialisation des 8 voisins\n",
    "Voisins = []\n",
    "Deplacement_Primaire = [(0,1),(1,1),(1,0),(1,-1),(0,-1),(-1,-1),(-1,0),(-1,1)]\n",
    "for i in Deplacement_Primaire :\n",
    "    Voisins.append((position_initiale[0]+i[0],position_initiale[1]+i[1]))\n",
    "print(\"Voisins \",Voisins)\n",
    "   \n",
    "Voisins=[position_initiale]\n",
    "print(Voisins)\n",
    "#Parcours\n",
    "\n",
    "def affiche():\n",
    "    print(\"       Milieu \\n\", Milieu)\n",
    "    print(\"            Distance \\n\", Distance)\n",
    "    print(\"Voisins : \", Voisins)\n",
    "    return()\n",
    "\n"
   ]
  },
  {
   "cell_type": "code",
   "execution_count": 42,
   "id": "f6e810cc",
   "metadata": {},
   "outputs": [
    {
     "name": "stdout",
     "output_type": "stream",
     "text": [
      "Graphe parcouru\n"
     ]
    }
   ],
   "source": [
    "sommet_initial = Voisins[0]\n",
    "\n",
    "while len(Voisins) > 0 :\n",
    "    \n",
    "    #  1-Partir d'une position sur le graphe\n",
    "    #  2-Choisir le premier sommet de la pile\n",
    "    #  3-Annoter les voisins de ce sommet\n",
    "    #    a) Pour chaque voisins de ce sommet : \n",
    "    #      - Il fait partie de la frontière = > rien faire\n",
    "    #      - Il est inconnu => calculer le déplacement, ajouter à la frontière, se retirer de la liste frontière\n",
    "    \n",
    "    sommet_initial = Voisins[0]\n",
    "    \n",
    "    for i in Deplacement_Primaire :\n",
    "        if (0 <= sommet_initial[0]+i[0] <= Distance.shape[0]) and (0 <= sommet_initial[1]+i[1] <= Distance.shape[1]) :\n",
    "            sommet_cible=((sommet_initial[0]+i[0],sommet_initial[1]+i[1]))\n",
    "            #print(\"Je veux aller à \", sommet_cible, \" en venant de \", sommet_initial)\n",
    "            if Distance[sommet_cible] == 100 : # sommet inconnu\n",
    "                if Distance[sommet_initial]-Milieu[sommet_cible]>=0 : #deplacement possible\n",
    "                    Distance[sommet_cible] = Distance[sommet_initial]-Milieu[sommet_cible]\n",
    "                    #print(\"Litse avant suppression\", Voisins)\n",
    "                    #print(\"Je retire \", Voisins.pop(0))\n",
    "                    #print(\"sommet_cible est \", sommet_cible)\n",
    "                    if sommet_cible not in Voisins :\n",
    "                        Voisins.append(sommet_cible)\n",
    "                        #print(\"J'ajoute\", Voisins.append(sommet_cible))\n",
    "\n",
    "    \n",
    "    #print(\"Test avant Voisins.remove(sommet_initial), sa valeur :\", sommet_initial)\n",
    "    if sommet_initial in Voisins : Voisins.remove(sommet_initial)\n",
    "\n",
    "print(\"Graphe parcouru\")\n",
    "\n"
   ]
  },
  {
   "cell_type": "code",
   "execution_count": 74,
   "id": "4974da93",
   "metadata": {},
   "outputs": [
    {
     "data": {
      "text/plain": [
       "<function matplotlib.pyplot.show(close=None, block=None)>"
      ]
     },
     "execution_count": 74,
     "metadata": {},
     "output_type": "execute_result"
    },
    {
     "data": {
      "image/png": "[encoded data removed]",
      "text/plain": [
       "<Figure size 288x288 with 2 Axes>"
      ]
     },
     "metadata": {
      "needs_background": "light"
     },
     "output_type": "display_data"
    }
   ],
   "source": [
    "from matplotlib import pyplot as plt\n",
    "ma_matrice = np.zeros((img_int.shape[0],img_int.shape[0]))\n",
    "for i in range(Distance.shape[0]-100):\n",
    "    for j in range(Distance.shape[1]-100):\n",
    "        if Distance[i][j]==100 :\n",
    "            ma_matrice[i][j]=0\n",
    "        else:\n",
    "            ma_matrice[i][j]=(Distance[i][j])\n",
    "\n",
    "im1 = plt.matshow(ma_matrice)\n",
    "plt.colorbar(im1)\n",
    "plt.show"
   ]
  },
  {
   "cell_type": "code",
   "execution_count": 86,
   "id": "370eced6",
   "metadata": {
    "scrolled": false
   },
   "outputs": [
    {
     "data": {
      "image/png": "[encoded data removed]",
      "text/plain": [
       "<Figure size 432x288 with 1 Axes>"
      ]
     },
     "metadata": {
      "needs_background": "light"
     },
     "output_type": "display_data"
    }
   ],
   "source": [
    "img_colorized = np.zeros((img.shape[0],img.shape[1],3))\n",
    "for i in range(img.shape[0]):\n",
    "    for j in range(img.shape[1]):\n",
    "        if img[i][j][0] == 1 and img[i][j][1] == 1 and img[i][j][2] == 1 : # Blanc\n",
    "            img_colorized[i][j][0] = 1\n",
    "            img_colorized[i][j][1] = 0.79\n",
    "            img_colorized[i][j][2] = 0.39 # sable\n",
    "        else: # noir\n",
    "            img_colorized[i][j][0] = 0.34\n",
    "            img_colorized[i][j][1] = 0.39\n",
    "            img_colorized[i][j][2] = 0.26 # vert foncé\n",
    "plt.imshow(img_colorized)\n",
    "plt.show()"
   ]
  },
  {
   "cell_type": "code",
   "execution_count": 90,
   "id": "5b085c51",
   "metadata": {},
   "outputs": [
    {
     "data": {
      "image/png": "[encoded data removed]",
      "text/plain": [
       "<Figure size 432x288 with 1 Axes>"
      ]
     },
     "metadata": {
      "needs_background": "light"
     },
     "output_type": "display_data"
    }
   ],
   "source": [
    "img_iso = img_colorized\n",
    "for i in range(img_colorized.shape[0]-100):\n",
    "    for j in range(img_colorized.shape[1]-100):\n",
    "        if 1 < ma_matrice[i][j] < 5 : \n",
    "            img_iso[i][j][0] = max(1,img_iso[i][j][0] + (ma_matrice[i][j]/autonomie_initiale))/2\n",
    "            img_iso[i][j][1] = img_iso[i][j][1]/10\n",
    "            img_iso[i][j][2] = img_iso[i][j][2]/10\n",
    "        if position_initiale[0]*0.98 < i < position_initiale[0]*1.02 and position_initiale[1]*0.98 < j < position_initiale[1]*1.02 :\n",
    "            img_iso[i][j][0] = 1\n",
    "            img_iso[i][j][1] = 0\n",
    "            img_iso[i][j][2] = 0\n",
    "plt.imshow(img_iso)\n",
    "plt.show()"
   ]
  },
  {
   "cell_type": "code",
   "execution_count": 91,
   "id": "ed9c4ff9",
   "metadata": {},
   "outputs": [],
   "source": [
    "import matplotlib.image as mpimg\n",
    "mpimg.imsave(\"isochrone.png\", img_iso)"
   ]
  },
  {
   "cell_type": "code",
   "execution_count": 54,
   "id": "b4ebbeff",
   "metadata": {},
   "outputs": [
    {
     "data": {
      "text/plain": [
       "1.1"
      ]
     },
     "execution_count": 54,
     "metadata": {},
     "output_type": "execute_result"
    }
   ],
   "source": [
    "max(1,1.1)"
   ]
  },
  {
   "cell_type": "code",
   "execution_count": 60,
   "id": "348d4de2",
   "metadata": {},
   "outputs": [
    {
     "data": {
      "text/plain": [
       "300.0"
      ]
     },
     "execution_count": 60,
     "metadata": {},
     "output_type": "execute_result"
    }
   ],
   "source": [
    "ma_matrice[900][500]"
   ]
  },
  {
   "cell_type": "code",
   "execution_count": 68,
   "id": "71941727",
   "metadata": {},
   "outputs": [
    {
     "data": {
      "text/plain": [
       "1439"
      ]
     },
     "execution_count": 68,
     "metadata": {},
     "output_type": "execute_result"
    }
   ],
   "source": [
    "img.shape[0]-1"
   ]
  },
  {
   "cell_type": "code",
   "execution_count": 71,
   "id": "93026190",
   "metadata": {},
   "outputs": [
    {
     "ename": "IndexError",
     "evalue": "index 1440 is out of bounds for axis 0 with size 1440",
     "output_type": "error",
     "traceback": [
      "\u001b[1;31m---------------------------------------------------------------------------\u001b[0m",
      "\u001b[1;31mIndexError\u001b[0m                                Traceback (most recent call last)",
      "\u001b[1;32m~\\AppData\\Local\\Temp/ipykernel_3328/3564126065.py\u001b[0m in \u001b[0;36m<module>\u001b[1;34m\u001b[0m\n\u001b[0;32m      1\u001b[0m \u001b[0mi\u001b[0m\u001b[1;33m=\u001b[0m\u001b[1;36m1440\u001b[0m\u001b[1;33m\u001b[0m\u001b[1;33m\u001b[0m\u001b[0m\n\u001b[0;32m      2\u001b[0m \u001b[0mj\u001b[0m\u001b[1;33m=\u001b[0m\u001b[1;36m0\u001b[0m\u001b[1;33m\u001b[0m\u001b[1;33m\u001b[0m\u001b[0m\n\u001b[1;32m----> 3\u001b[1;33m \u001b[0mma_matrice\u001b[0m\u001b[1;33m[\u001b[0m\u001b[0mi\u001b[0m\u001b[1;33m]\u001b[0m\u001b[1;33m[\u001b[0m\u001b[0mj\u001b[0m\u001b[1;33m]\u001b[0m\u001b[1;33m\u001b[0m\u001b[1;33m\u001b[0m\u001b[0m\n\u001b[0m\u001b[0;32m      4\u001b[0m \u001b[0mimg_iso\u001b[0m\u001b[1;33m[\u001b[0m\u001b[0mi\u001b[0m\u001b[1;33m]\u001b[0m\u001b[1;33m[\u001b[0m\u001b[0mj\u001b[0m\u001b[1;33m]\u001b[0m\u001b[1;33m[\u001b[0m\u001b[1;36m0\u001b[0m\u001b[1;33m]\u001b[0m\u001b[1;33m\u001b[0m\u001b[1;33m\u001b[0m\u001b[0m\n\u001b[0;32m      5\u001b[0m \u001b[0mma_matrice\u001b[0m\u001b[1;33m[\u001b[0m\u001b[0mi\u001b[0m\u001b[1;33m]\u001b[0m\u001b[1;33m[\u001b[0m\u001b[0mj\u001b[0m\u001b[1;33m]\u001b[0m\u001b[1;33m\u001b[0m\u001b[1;33m\u001b[0m\u001b[0m\n",
      "\u001b[1;31mIndexError\u001b[0m: index 1440 is out of bounds for axis 0 with size 1440"
     ]
    }
   ],
   "source": [
    "i=1440\n",
    "j=0\n",
    "ma_matrice[i][j]\n",
    "img_iso[i][j][0]\n",
    "ma_matrice[i][j]"
   ]
  },
  {
   "cell_type": "code",
   "execution_count": null,
   "id": "c9f3a731",
   "metadata": {},
   "outputs": [],
   "source": []
  }
 ],
 "metadata": {
  "kernelspec": {
   "display_name": "Python 3 (ipykernel)",
   "language": "python",
   "name": "python3"
  },
  "language_info": {
   "codemirror_mode": {
    "name": "ipython",
    "version": 3
   },
   "file_extension": ".py",
   "mimetype": "text/x-python",
   "name": "python",
   "nbconvert_exporter": "python",
   "pygments_lexer": "ipython3",
   "version": "3.9.7"
  }
 },
 "nbformat": 4,
 "nbformat_minor": 5
}
