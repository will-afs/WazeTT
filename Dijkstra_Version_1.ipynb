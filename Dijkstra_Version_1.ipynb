{
 "cells": [
  {
   "cell_type": "markdown",
   "id": "1964d853",
   "metadata": {},
   "source": [
    "# Etape 1 : Chargement de l'image"
   ]
  },
  {
   "cell_type": "code",
   "execution_count": 1,
   "id": "91fe2941",
   "metadata": {
    "scrolled": false
   },
   "outputs": [
    {
     "data": {
      "image/png": "[encoded data removed]",
      "text/plain": [
       "<Figure size 432x288 with 1 Axes>"
      ]
     },
     "metadata": {
      "needs_background": "light"
     },
     "output_type": "display_data"
    }
   ],
   "source": [
    "import numpy as np\n",
    "import matplotlib.image as mpimg\n",
    "import matplotlib.pyplot as plt\n",
    "import random\n",
    "img = mpimg.imread(\"image.png\")\n",
    "plt.imshow(img)\n",
    "plt.show()\n",
    "#Sauvegarder\n",
    "#mpimg.imsave(\"resultat.png\", img)"
   ]
  },
  {
   "cell_type": "markdown",
   "id": "7daa4082",
   "metadata": {},
   "source": [
    "# Etape 2 : Création de la matrice coût"
   ]
  },
  {
   "cell_type": "code",
   "execution_count": 2,
   "id": "b9c651af",
   "metadata": {},
   "outputs": [
    {
     "name": "stdout",
     "output_type": "stream",
     "text": [
      "format img_int  (1346, 1254, 1)\n",
      "format img  (1346, 1254, 3)\n",
      "Valeur d'un pixel noir, image  [0. 0. 0.]\n",
      "Valeur d'un pixel noir, image int  [1001.]\n",
      "Valeur d'un pixel blanc, image  [1. 1. 1.]\n",
      "Valeur d'un pixel blanc, image int  [1.]\n"
     ]
    }
   ],
   "source": [
    "img_int = np.zeros((img.shape[0],img.shape[1],1))\n",
    "for i in range(img.shape[0]):\n",
    "    for j in range(img.shape[1]):\n",
    "        if img[i][j][0] == 1 and img[i][j][1] == 1 and img[i][j][2] == 1 :\n",
    "            img_int[i][j] = 1\n",
    "        else:\n",
    "            img_int[i][j] = 1001\n",
    "print(\"format img_int \",img_int.shape )\n",
    "print(\"format img \",img.shape )\n",
    "print(\"Valeur d'un pixel noir, image \",img[600][750])\n",
    "print(\"Valeur d'un pixel noir, image int \",img_int[600][750])\n",
    "print(\"Valeur d'un pixel blanc, image \",img[1000][1250])\n",
    "print(\"Valeur d'un pixel blanc, image int \",img_int[1000][1250])"
   ]
  },
  {
   "cell_type": "markdown",
   "id": "75944183",
   "metadata": {},
   "source": [
    "# Etape 3 : Paramétrage du problème\n",
    "### \tCréation matrice de parcours\n",
    "###\t    Initialisation des voisins"
   ]
  },
  {
   "cell_type": "code",
   "execution_count": 3,
   "id": "52a14a6f",
   "metadata": {},
   "outputs": [
    {
     "name": "stdout",
     "output_type": "stream",
     "text": [
      "Voisins  [(700, 301), (701, 301), (701, 300), (701, 299), (700, 299), (699, 299), (699, 300), (699, 301)]\n",
      "[(700, 300)]\n"
     ]
    }
   ],
   "source": [
    "import numpy as np\n",
    "\n",
    "#Paramètre du problème\n",
    "autonomie_initiale = 900\n",
    "position_initiale=(700,300)\n",
    "copie_milieu = img_int\n",
    "Milieu = img_int\n",
    "Anciens_Voisins = []\n",
    "Distance = 100*np.ones((img_int.shape[0],img_int.shape[1]))\n",
    "\n",
    "#Paramétrage de la zone et de la matrice déplacement\n",
    "Distance[position_initiale] = autonomie_initiale\n",
    "\n",
    "#Initialisation des 8 voisins\n",
    "Voisins = []\n",
    "Deplacement_Primaire = [(0,1),(1,1),(1,0),(1,-1),(0,-1),(-1,-1),(-1,0),(-1,1)]\n",
    "for i in Deplacement_Primaire :\n",
    "    Voisins.append((position_initiale[0]+i[0],position_initiale[1]+i[1]))\n",
    "    Anciens_Voisins.append((position_initiale[0]+i[0],position_initiale[1]+i[1]))\n",
    "print(\"Voisins \",Voisins)\n",
    "   \n",
    "Voisins=[position_initiale]\n",
    "print(Voisins)\n",
    "#Parcours\n",
    "\n",
    "def affiche():\n",
    "    print(\"       Milieu \\n\", Milieu)\n",
    "    print(\"            Distance \\n\", Distance)\n",
    "    print(\"Voisins : \", Voisins)\n",
    "    return()\n",
    "\n"
   ]
  },
  {
   "cell_type": "code",
   "execution_count": 4,
   "id": "370eced6",
   "metadata": {
    "scrolled": false
   },
   "outputs": [
    {
     "data": {
      "image/png": "[encoded data removed]",
      "text/plain": [
       "<Figure size 432x288 with 1 Axes>"
      ]
     },
     "metadata": {
      "needs_background": "light"
     },
     "output_type": "display_data"
    }
   ],
   "source": [
    "img_colorized = np.zeros((img.shape[0],img.shape[1],3))\n",
    "for i in range(img.shape[0]):\n",
    "    for j in range(img.shape[1]):\n",
    "        if img[i][j][0] == 1 and img[i][j][1] == 1 and img[i][j][2] == 1 : # Blanc\n",
    "            img_colorized[i][j][0] = 1\n",
    "            img_colorized[i][j][1] = 0.79\n",
    "            img_colorized[i][j][2] = 0.39 # sable\n",
    "        else: # noir\n",
    "            img_colorized[i][j][0] = 0.34\n",
    "            img_colorized[i][j][1] = 0.39\n",
    "            img_colorized[i][j][2] = 0.26 # vert foncé\n",
    "plt.imshow(img_colorized)\n",
    "plt.show()"
   ]
  },
  {
   "cell_type": "markdown",
   "id": "dc565f14",
   "metadata": {},
   "source": [
    "# Etape 4 : Parcours de graphe"
   ]
  },
  {
   "cell_type": "code",
   "execution_count": 5,
   "id": "f6e810cc",
   "metadata": {},
   "outputs": [
    {
     "name": "stdout",
     "output_type": "stream",
     "text": [
      "Graphe parcouru\n"
     ]
    }
   ],
   "source": [
    "sommet_initial = Voisins[0]\n",
    "\n",
    "\n",
    "\n",
    "while len(Voisins) > 0 :\n",
    "    \n",
    "    #  1-Partir d'une position sur le graphe\n",
    "    #  2-Choisir le premier sommet de la pile\n",
    "    #  3-Annoter les voisins de ce sommet\n",
    "    #    a) Pour chaque voisins de ce sommet : \n",
    "    #      - Il fait partie de la frontière = > rien faire\n",
    "    #      - Il est inconnu => calculer le déplacement, ajouter à la frontière, se retirer de la liste frontière\n",
    "    \n",
    "    sommet_initial = Voisins[0]\n",
    "    for i in Deplacement_Primaire :\n",
    "        if (0 <= sommet_initial[0]+i[0] <= Distance.shape[0]) and (0 <= sommet_initial[1]+i[1] <= Distance.shape[1]) :\n",
    "            # Test si le sommet cible ne sort pas de la carte\n",
    "            sommet_cible=((sommet_initial[0]+i[0],sommet_initial[1]+i[1]))\n",
    "            if Distance[sommet_cible] == 100 : # sommet inconnu\n",
    "                if Distance[sommet_initial]-Milieu[sommet_cible]>=0 : #deplacement possible\n",
    "                    Distance[sommet_cible] = Distance[sommet_initial]-Milieu[sommet_cible]\n",
    "                    img_colorized[sommet_cible][0] = 1\n",
    "                    img_colorized[sommet_cible][1] = 0\n",
    "                    img_colorized[sommet_cible][2] = 0 # rouge\n",
    "                    if sommet_cible not in Voisins :\n",
    "                        Voisins.append(sommet_cible)\n",
    "                        Anciens_Voisins.append(sommet_cible)\n",
    "\n",
    "    \n",
    "    \n",
    "    if sommet_initial in Voisins : \n",
    "        Voisins.remove(sommet_initial)\n",
    "\n",
    "print(\"Graphe parcouru\")\n",
    "\n"
   ]
  },
  {
   "cell_type": "markdown",
   "id": "3f2a897f",
   "metadata": {},
   "source": [
    "# Etape 5 : Affichage matrice parcours"
   ]
  },
  {
   "cell_type": "code",
   "execution_count": 51,
   "id": "4974da93",
   "metadata": {},
   "outputs": [
    {
     "data": {
      "text/plain": [
       "<function matplotlib.pyplot.show(close=None, block=None)>"
      ]
     },
     "execution_count": 51,
     "metadata": {},
     "output_type": "execute_result"
    },
    {
     "data": {
      "image/png": "[encoded data removed]",
      "text/plain": [
       "<Figure size 288x288 with 2 Axes>"
      ]
     },
     "metadata": {
      "needs_background": "light"
     },
     "output_type": "display_data"
    }
   ],
   "source": [
    "from matplotlib import pyplot as plt\n",
    "ma_matrice = np.zeros((img_int.shape[0],img_int.shape[0]))\n",
    "for i in range(Distance.shape[0]-100):\n",
    "    for j in range(Distance.shape[1]-100):\n",
    "        if Distance[i][j]==100 :\n",
    "            ma_matrice[i][j]=0\n",
    "        else:\n",
    "            ma_matrice[i][j]=(Distance[i][j])\n",
    "\n",
    "im1 = plt.matshow(ma_matrice)\n",
    "plt.colorbar(im1)\n",
    "plt.show"
   ]
  },
  {
   "cell_type": "markdown",
   "id": "f5ec0d9f",
   "metadata": {},
   "source": [
    "# Etape 6 : Coloration de l'image initiale"
   ]
  },
  {
   "cell_type": "markdown",
   "id": "f2180d0a",
   "metadata": {},
   "source": [
    "# Etape 7 : Affichage de l'isochrone"
   ]
  },
  {
   "cell_type": "code",
   "execution_count": 6,
   "id": "5b085c51",
   "metadata": {},
   "outputs": [
    {
     "data": {
      "image/png": "[encoded data removed]",
      "text/plain": [
       "<Figure size 432x288 with 1 Axes>"
      ]
     },
     "metadata": {
      "needs_background": "light"
     },
     "output_type": "display_data"
    }
   ],
   "source": [
    "img_iso = img_colorized\n",
    "for i in range(img_colorized.shape[0]-100):\n",
    "    for j in range(img_colorized.shape[1]-100):\n",
    "        #if 1 < ma_matrice[i][j] < 5 : \n",
    "            #img_iso[i][j][0] = max(1,img_iso[i][j][0] + (ma_matrice[i][j]/autonomie_initiale))/2\n",
    "            #img_iso[i][j][1] = img_iso[i][j][1]/10\n",
    "            #img_iso[i][j][2] = img_iso[i][j][2]/10\n",
    "            # Courbe isochrone \n",
    "        if position_initiale[0]*0.95 < i < position_initiale[0]*1.05 and position_initiale[1]*0.95 < j < position_initiale[1]*1.05 :\n",
    "            img_iso[i][j][0] = 0\n",
    "            img_iso[i][j][1] = 1\n",
    "            img_iso[i][j][2] = 0\n",
    "            # Point rouge initial\n",
    "plt.imshow(img_iso)\n",
    "plt.show()"
   ]
  },
  {
   "cell_type": "code",
   "execution_count": 53,
   "id": "24cc8a3b",
   "metadata": {
    "scrolled": false
   },
   "outputs": [
    {
     "data": {
      "text/plain": [
       "<matplotlib.image.AxesImage at 0x17f857f5070>"
      ]
     },
     "execution_count": 53,
     "metadata": {},
     "output_type": "execute_result"
    },
    {
     "data": {
      "image/png": "[encoded data removed]",
      "text/plain": [
       "<Figure size 432x288 with 1 Axes>"
      ]
     },
     "metadata": {
      "needs_background": "light"
     },
     "output_type": "display_data"
    }
   ],
   "source": [
    "plt.imshow(img_colorized)"
   ]
  },
  {
   "cell_type": "code",
   "execution_count": null,
   "id": "8aed8eef",
   "metadata": {},
   "outputs": [],
   "source": []
  }
 ],
 "metadata": {
  "kernelspec": {
   "display_name": "Python 3 (ipykernel)",
   "language": "python",
   "name": "python3"
  },
  "language_info": {
   "codemirror_mode": {
    "name": "ipython",
    "version": 3
   },
   "file_extension": ".py",
   "mimetype": "text/x-python",
   "name": "python",
   "nbconvert_exporter": "python",
   "pygments_lexer": "ipython3",
   "version": "3.9.7"
  }
 },
 "nbformat": 4,
 "nbformat_minor": 5
}
